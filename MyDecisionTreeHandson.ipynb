{
  "nbformat": 4,
  "nbformat_minor": 0,
  "metadata": {
    "colab": {
      "provenance": []
    },
    "kernelspec": {
      "name": "python3",
      "display_name": "Python 3"
    },
    "language_info": {
      "name": "python"
    }
  },
  "cells": [
    {
      "cell_type": "code",
      "source": [
        "import numpy as np,pandas as pd,matplotlib.pyplot as plt,seaborn as sns"
      ],
      "metadata": {
        "id": "QkrSKmlfJHGH"
      },
      "execution_count": 1,
      "outputs": []
    },
    {
      "cell_type": "markdown",
      "source": [
        "To decide which feature should be used as the root node, we can use Gini's impurity/index or entropy to determine this.\n",
        "If target column has high number of classes, it is better to use entropy"
      ],
      "metadata": {
        "id": "lTmC5wX7Aow8"
      }
    },
    {
      "cell_type": "markdown",
      "source": [
        "##EDA\n",
        "- Data analysis: shape,info,describe,dtypes,corr\n",
        "- Missing values\n",
        "- Outliers detection\n",
        "- Visualization"
      ],
      "metadata": {
        "id": "F9SqHIr4B-fL"
      }
    },
    {
      "cell_type": "code",
      "source": [
        "df=pd.read_csv('heart.csv')\n",
        "df.head()"
      ],
      "metadata": {
        "id": "yC2QMndEKIM6",
        "colab": {
          "base_uri": "https://localhost:8080/",
          "height": 206
        },
        "outputId": "fb71ad4f-be59-45cb-a59d-846d024ba836"
      },
      "execution_count": 2,
      "outputs": [
        {
          "output_type": "execute_result",
          "data": {
            "text/plain": [
              "   age  sex  cp  trestbps  chol  fbs  restecg  thalach  exang  oldpeak  slope  \\\n",
              "0   63    1   3       145   233    1        0      150      0      2.3      0   \n",
              "1   37    1   2       130   250    0        1      187      0      3.5      0   \n",
              "2   41    0   1       130   204    0        0      172      0      1.4      2   \n",
              "3   56    1   1       120   236    0        1      178      0      0.8      2   \n",
              "4   57    0   0       120   354    0        1      163      1      0.6      2   \n",
              "\n",
              "   ca  thal  target  \n",
              "0   0     1       1  \n",
              "1   0     2       1  \n",
              "2   0     2       1  \n",
              "3   0     2       1  \n",
              "4   0     2       1  "
            ],
            "text/html": [
              "\n",
              "  <div id=\"df-8c452156-6f7d-4aa5-84d8-9d992e5ef39b\" class=\"colab-df-container\">\n",
              "    <div>\n",
              "<style scoped>\n",
              "    .dataframe tbody tr th:only-of-type {\n",
              "        vertical-align: middle;\n",
              "    }\n",
              "\n",
              "    .dataframe tbody tr th {\n",
              "        vertical-align: top;\n",
              "    }\n",
              "\n",
              "    .dataframe thead th {\n",
              "        text-align: right;\n",
              "    }\n",
              "</style>\n",
              "<table border=\"1\" class=\"dataframe\">\n",
              "  <thead>\n",
              "    <tr style=\"text-align: right;\">\n",
              "      <th></th>\n",
              "      <th>age</th>\n",
              "      <th>sex</th>\n",
              "      <th>cp</th>\n",
              "      <th>trestbps</th>\n",
              "      <th>chol</th>\n",
              "      <th>fbs</th>\n",
              "      <th>restecg</th>\n",
              "      <th>thalach</th>\n",
              "      <th>exang</th>\n",
              "      <th>oldpeak</th>\n",
              "      <th>slope</th>\n",
              "      <th>ca</th>\n",
              "      <th>thal</th>\n",
              "      <th>target</th>\n",
              "    </tr>\n",
              "  </thead>\n",
              "  <tbody>\n",
              "    <tr>\n",
              "      <th>0</th>\n",
              "      <td>63</td>\n",
              "      <td>1</td>\n",
              "      <td>3</td>\n",
              "      <td>145</td>\n",
              "      <td>233</td>\n",
              "      <td>1</td>\n",
              "      <td>0</td>\n",
              "      <td>150</td>\n",
              "      <td>0</td>\n",
              "      <td>2.3</td>\n",
              "      <td>0</td>\n",
              "      <td>0</td>\n",
              "      <td>1</td>\n",
              "      <td>1</td>\n",
              "    </tr>\n",
              "    <tr>\n",
              "      <th>1</th>\n",
              "      <td>37</td>\n",
              "      <td>1</td>\n",
              "      <td>2</td>\n",
              "      <td>130</td>\n",
              "      <td>250</td>\n",
              "      <td>0</td>\n",
              "      <td>1</td>\n",
              "      <td>187</td>\n",
              "      <td>0</td>\n",
              "      <td>3.5</td>\n",
              "      <td>0</td>\n",
              "      <td>0</td>\n",
              "      <td>2</td>\n",
              "      <td>1</td>\n",
              "    </tr>\n",
              "    <tr>\n",
              "      <th>2</th>\n",
              "      <td>41</td>\n",
              "      <td>0</td>\n",
              "      <td>1</td>\n",
              "      <td>130</td>\n",
              "      <td>204</td>\n",
              "      <td>0</td>\n",
              "      <td>0</td>\n",
              "      <td>172</td>\n",
              "      <td>0</td>\n",
              "      <td>1.4</td>\n",
              "      <td>2</td>\n",
              "      <td>0</td>\n",
              "      <td>2</td>\n",
              "      <td>1</td>\n",
              "    </tr>\n",
              "    <tr>\n",
              "      <th>3</th>\n",
              "      <td>56</td>\n",
              "      <td>1</td>\n",
              "      <td>1</td>\n",
              "      <td>120</td>\n",
              "      <td>236</td>\n",
              "      <td>0</td>\n",
              "      <td>1</td>\n",
              "      <td>178</td>\n",
              "      <td>0</td>\n",
              "      <td>0.8</td>\n",
              "      <td>2</td>\n",
              "      <td>0</td>\n",
              "      <td>2</td>\n",
              "      <td>1</td>\n",
              "    </tr>\n",
              "    <tr>\n",
              "      <th>4</th>\n",
              "      <td>57</td>\n",
              "      <td>0</td>\n",
              "      <td>0</td>\n",
              "      <td>120</td>\n",
              "      <td>354</td>\n",
              "      <td>0</td>\n",
              "      <td>1</td>\n",
              "      <td>163</td>\n",
              "      <td>1</td>\n",
              "      <td>0.6</td>\n",
              "      <td>2</td>\n",
              "      <td>0</td>\n",
              "      <td>2</td>\n",
              "      <td>1</td>\n",
              "    </tr>\n",
              "  </tbody>\n",
              "</table>\n",
              "</div>\n",
              "    <div class=\"colab-df-buttons\">\n",
              "\n",
              "  <div class=\"colab-df-container\">\n",
              "    <button class=\"colab-df-convert\" onclick=\"convertToInteractive('df-8c452156-6f7d-4aa5-84d8-9d992e5ef39b')\"\n",
              "            title=\"Convert this dataframe to an interactive table.\"\n",
              "            style=\"display:none;\">\n",
              "\n",
              "  <svg xmlns=\"http://www.w3.org/2000/svg\" height=\"24px\" viewBox=\"0 -960 960 960\">\n",
              "    <path d=\"M120-120v-720h720v720H120Zm60-500h600v-160H180v160Zm220 220h160v-160H400v160Zm0 220h160v-160H400v160ZM180-400h160v-160H180v160Zm440 0h160v-160H620v160ZM180-180h160v-160H180v160Zm440 0h160v-160H620v160Z\"/>\n",
              "  </svg>\n",
              "    </button>\n",
              "\n",
              "  <style>\n",
              "    .colab-df-container {\n",
              "      display:flex;\n",
              "      gap: 12px;\n",
              "    }\n",
              "\n",
              "    .colab-df-convert {\n",
              "      background-color: #E8F0FE;\n",
              "      border: none;\n",
              "      border-radius: 50%;\n",
              "      cursor: pointer;\n",
              "      display: none;\n",
              "      fill: #1967D2;\n",
              "      height: 32px;\n",
              "      padding: 0 0 0 0;\n",
              "      width: 32px;\n",
              "    }\n",
              "\n",
              "    .colab-df-convert:hover {\n",
              "      background-color: #E2EBFA;\n",
              "      box-shadow: 0px 1px 2px rgba(60, 64, 67, 0.3), 0px 1px 3px 1px rgba(60, 64, 67, 0.15);\n",
              "      fill: #174EA6;\n",
              "    }\n",
              "\n",
              "    .colab-df-buttons div {\n",
              "      margin-bottom: 4px;\n",
              "    }\n",
              "\n",
              "    [theme=dark] .colab-df-convert {\n",
              "      background-color: #3B4455;\n",
              "      fill: #D2E3FC;\n",
              "    }\n",
              "\n",
              "    [theme=dark] .colab-df-convert:hover {\n",
              "      background-color: #434B5C;\n",
              "      box-shadow: 0px 1px 3px 1px rgba(0, 0, 0, 0.15);\n",
              "      filter: drop-shadow(0px 1px 2px rgba(0, 0, 0, 0.3));\n",
              "      fill: #FFFFFF;\n",
              "    }\n",
              "  </style>\n",
              "\n",
              "    <script>\n",
              "      const buttonEl =\n",
              "        document.querySelector('#df-8c452156-6f7d-4aa5-84d8-9d992e5ef39b button.colab-df-convert');\n",
              "      buttonEl.style.display =\n",
              "        google.colab.kernel.accessAllowed ? 'block' : 'none';\n",
              "\n",
              "      async function convertToInteractive(key) {\n",
              "        const element = document.querySelector('#df-8c452156-6f7d-4aa5-84d8-9d992e5ef39b');\n",
              "        const dataTable =\n",
              "          await google.colab.kernel.invokeFunction('convertToInteractive',\n",
              "                                                    [key], {});\n",
              "        if (!dataTable) return;\n",
              "\n",
              "        const docLinkHtml = 'Like what you see? Visit the ' +\n",
              "          '<a target=\"_blank\" href=https://colab.research.google.com/notebooks/data_table.ipynb>data table notebook</a>'\n",
              "          + ' to learn more about interactive tables.';\n",
              "        element.innerHTML = '';\n",
              "        dataTable['output_type'] = 'display_data';\n",
              "        await google.colab.output.renderOutput(dataTable, element);\n",
              "        const docLink = document.createElement('div');\n",
              "        docLink.innerHTML = docLinkHtml;\n",
              "        element.appendChild(docLink);\n",
              "      }\n",
              "    </script>\n",
              "  </div>\n",
              "\n",
              "\n",
              "<div id=\"df-11fee131-d182-4a24-bbea-02bc8a387b82\">\n",
              "  <button class=\"colab-df-quickchart\" onclick=\"quickchart('df-11fee131-d182-4a24-bbea-02bc8a387b82')\"\n",
              "            title=\"Suggest charts.\"\n",
              "            style=\"display:none;\">\n",
              "\n",
              "<svg xmlns=\"http://www.w3.org/2000/svg\" height=\"24px\"viewBox=\"0 0 24 24\"\n",
              "     width=\"24px\">\n",
              "    <g>\n",
              "        <path d=\"M19 3H5c-1.1 0-2 .9-2 2v14c0 1.1.9 2 2 2h14c1.1 0 2-.9 2-2V5c0-1.1-.9-2-2-2zM9 17H7v-7h2v7zm4 0h-2V7h2v10zm4 0h-2v-4h2v4z\"/>\n",
              "    </g>\n",
              "</svg>\n",
              "  </button>\n",
              "\n",
              "<style>\n",
              "  .colab-df-quickchart {\n",
              "      --bg-color: #E8F0FE;\n",
              "      --fill-color: #1967D2;\n",
              "      --hover-bg-color: #E2EBFA;\n",
              "      --hover-fill-color: #174EA6;\n",
              "      --disabled-fill-color: #AAA;\n",
              "      --disabled-bg-color: #DDD;\n",
              "  }\n",
              "\n",
              "  [theme=dark] .colab-df-quickchart {\n",
              "      --bg-color: #3B4455;\n",
              "      --fill-color: #D2E3FC;\n",
              "      --hover-bg-color: #434B5C;\n",
              "      --hover-fill-color: #FFFFFF;\n",
              "      --disabled-bg-color: #3B4455;\n",
              "      --disabled-fill-color: #666;\n",
              "  }\n",
              "\n",
              "  .colab-df-quickchart {\n",
              "    background-color: var(--bg-color);\n",
              "    border: none;\n",
              "    border-radius: 50%;\n",
              "    cursor: pointer;\n",
              "    display: none;\n",
              "    fill: var(--fill-color);\n",
              "    height: 32px;\n",
              "    padding: 0;\n",
              "    width: 32px;\n",
              "  }\n",
              "\n",
              "  .colab-df-quickchart:hover {\n",
              "    background-color: var(--hover-bg-color);\n",
              "    box-shadow: 0 1px 2px rgba(60, 64, 67, 0.3), 0 1px 3px 1px rgba(60, 64, 67, 0.15);\n",
              "    fill: var(--button-hover-fill-color);\n",
              "  }\n",
              "\n",
              "  .colab-df-quickchart-complete:disabled,\n",
              "  .colab-df-quickchart-complete:disabled:hover {\n",
              "    background-color: var(--disabled-bg-color);\n",
              "    fill: var(--disabled-fill-color);\n",
              "    box-shadow: none;\n",
              "  }\n",
              "\n",
              "  .colab-df-spinner {\n",
              "    border: 2px solid var(--fill-color);\n",
              "    border-color: transparent;\n",
              "    border-bottom-color: var(--fill-color);\n",
              "    animation:\n",
              "      spin 1s steps(1) infinite;\n",
              "  }\n",
              "\n",
              "  @keyframes spin {\n",
              "    0% {\n",
              "      border-color: transparent;\n",
              "      border-bottom-color: var(--fill-color);\n",
              "      border-left-color: var(--fill-color);\n",
              "    }\n",
              "    20% {\n",
              "      border-color: transparent;\n",
              "      border-left-color: var(--fill-color);\n",
              "      border-top-color: var(--fill-color);\n",
              "    }\n",
              "    30% {\n",
              "      border-color: transparent;\n",
              "      border-left-color: var(--fill-color);\n",
              "      border-top-color: var(--fill-color);\n",
              "      border-right-color: var(--fill-color);\n",
              "    }\n",
              "    40% {\n",
              "      border-color: transparent;\n",
              "      border-right-color: var(--fill-color);\n",
              "      border-top-color: var(--fill-color);\n",
              "    }\n",
              "    60% {\n",
              "      border-color: transparent;\n",
              "      border-right-color: var(--fill-color);\n",
              "    }\n",
              "    80% {\n",
              "      border-color: transparent;\n",
              "      border-right-color: var(--fill-color);\n",
              "      border-bottom-color: var(--fill-color);\n",
              "    }\n",
              "    90% {\n",
              "      border-color: transparent;\n",
              "      border-bottom-color: var(--fill-color);\n",
              "    }\n",
              "  }\n",
              "</style>\n",
              "\n",
              "  <script>\n",
              "    async function quickchart(key) {\n",
              "      const quickchartButtonEl =\n",
              "        document.querySelector('#' + key + ' button');\n",
              "      quickchartButtonEl.disabled = true;  // To prevent multiple clicks.\n",
              "      quickchartButtonEl.classList.add('colab-df-spinner');\n",
              "      try {\n",
              "        const charts = await google.colab.kernel.invokeFunction(\n",
              "            'suggestCharts', [key], {});\n",
              "      } catch (error) {\n",
              "        console.error('Error during call to suggestCharts:', error);\n",
              "      }\n",
              "      quickchartButtonEl.classList.remove('colab-df-spinner');\n",
              "      quickchartButtonEl.classList.add('colab-df-quickchart-complete');\n",
              "    }\n",
              "    (() => {\n",
              "      let quickchartButtonEl =\n",
              "        document.querySelector('#df-11fee131-d182-4a24-bbea-02bc8a387b82 button');\n",
              "      quickchartButtonEl.style.display =\n",
              "        google.colab.kernel.accessAllowed ? 'block' : 'none';\n",
              "    })();\n",
              "  </script>\n",
              "</div>\n",
              "    </div>\n",
              "  </div>\n"
            ]
          },
          "metadata": {},
          "execution_count": 2
        }
      ]
    },
    {
      "cell_type": "markdown",
      "source": [
        "In target column,1 indicates person is having heart disease and 0 means person is not having heart disease\n",
        "\n",
        "**age**: the age of the patient in years.\n",
        "\n",
        "**sex**: the sex of the patient (1 = male, 0 = female).\n",
        "\n",
        "**cp**: the type of chest pain the patient experienced (1 = typical angina, 2 = atypical angina, 3 = non-anginal pain, 4 = asymptomatic).\n",
        "\n",
        "**trestbps**: the resting blood pressure of the patient in mm Hg.\n",
        "\n",
        "**chol**: the serum cholesterol level of the patient in mg/dl.\n",
        "\n",
        "**fbs**: the fasting blood sugar level of the patient, measured in mg/dl (1 = high, 0 = low).\n",
        "\n",
        "**restecg**: the resting electrocardiographic results of the patient (0 = normal, 1 = ST-T wave abnormality, 2 = left ventricular hypertrophy).\n",
        "\n",
        "(Resting electrocardiographic (ECG or EKG) is a non-invasive diagnostic test that records the electrical activity of the heart while the patient is at rest. The test is performed using an electrocardiogram machine, which records the electrical signals produced by the heart through electrodes placed on the chest, arms, and legs.)\n",
        "\n",
        "**thalach**: the maximum heart rate achieved by the patient during exercise.\n",
        "exang: whether the patient experienced exercise-induced angina (1 = yes, 0 = no).\n",
        "\n",
        "**oldpeak**: the ST depression induced by exercise relative to rest.\n",
        "slope: the slope of the ST segment during peak exercise (1 = upsloping, 2 = flat, 3 = downsloping).\n",
        "\n",
        "(ST depression induced by exercise relative to rest\n",
        "Oldpeak, also known as ST depression, is a common parameter measured during an exercise stress test to evaluate the presence and severity of coronary artery disease. It represents the amount of ST segment depression that occurs on an electrocardiogram (ECG) during exercise compared to rest.)\n",
        "\n",
        "**ca**: the number of major vessels colored by fluoroscopy (0-3).\n",
        "\n",
        "(he number of major vessels (0-3) colored by fluoroscopy is a parameter that is used to assess the severity of coronary artery disease (CAD) in patients who undergo coronary angiography)\n",
        "\n",
        "**thal**: the type of thallium scan performed on the patient (1 = fixed defect, 2 = reversible defect, 3 = normal).\n",
        "\n",
        "target: the presence of heart disease in the patient (0 = no disease, 1 = disease present)."
      ],
      "metadata": {
        "id": "hadk2XcFDxps"
      }
    },
    {
      "cell_type": "code",
      "source": [
        "df.shape"
      ],
      "metadata": {
        "colab": {
          "base_uri": "https://localhost:8080/"
        },
        "id": "LirFWlPEA5rf",
        "outputId": "f904044d-612c-4053-de70-c0a12266e4bf"
      },
      "execution_count": 3,
      "outputs": [
        {
          "output_type": "execute_result",
          "data": {
            "text/plain": [
              "(303, 14)"
            ]
          },
          "metadata": {},
          "execution_count": 3
        }
      ]
    },
    {
      "cell_type": "code",
      "source": [
        "df.info()"
      ],
      "metadata": {
        "colab": {
          "base_uri": "https://localhost:8080/"
        },
        "id": "Nxc72R9gIGRj",
        "outputId": "db2f8a91-4549-4fc5-f4a1-86dd850d5b98"
      },
      "execution_count": 5,
      "outputs": [
        {
          "output_type": "stream",
          "name": "stdout",
          "text": [
            "<class 'pandas.core.frame.DataFrame'>\n",
            "RangeIndex: 303 entries, 0 to 302\n",
            "Data columns (total 14 columns):\n",
            " #   Column    Non-Null Count  Dtype  \n",
            "---  ------    --------------  -----  \n",
            " 0   age       303 non-null    int64  \n",
            " 1   sex       303 non-null    int64  \n",
            " 2   cp        303 non-null    int64  \n",
            " 3   trestbps  303 non-null    int64  \n",
            " 4   chol      303 non-null    int64  \n",
            " 5   fbs       303 non-null    int64  \n",
            " 6   restecg   303 non-null    int64  \n",
            " 7   thalach   303 non-null    int64  \n",
            " 8   exang     303 non-null    int64  \n",
            " 9   oldpeak   303 non-null    float64\n",
            " 10  slope     303 non-null    int64  \n",
            " 11  ca        303 non-null    int64  \n",
            " 12  thal      303 non-null    int64  \n",
            " 13  target    303 non-null    int64  \n",
            "dtypes: float64(1), int64(13)\n",
            "memory usage: 33.3 KB\n"
          ]
        }
      ]
    },
    {
      "cell_type": "code",
      "source": [
        "df.isnull().sum()"
      ],
      "metadata": {
        "colab": {
          "base_uri": "https://localhost:8080/"
        },
        "id": "6OMWgSbxA5nz",
        "outputId": "03c4e205-c8f5-4faa-859b-316bd8173ef5"
      },
      "execution_count": 6,
      "outputs": [
        {
          "output_type": "execute_result",
          "data": {
            "text/plain": [
              "age         0\n",
              "sex         0\n",
              "cp          0\n",
              "trestbps    0\n",
              "chol        0\n",
              "fbs         0\n",
              "restecg     0\n",
              "thalach     0\n",
              "exang       0\n",
              "oldpeak     0\n",
              "slope       0\n",
              "ca          0\n",
              "thal        0\n",
              "target      0\n",
              "dtype: int64"
            ]
          },
          "metadata": {},
          "execution_count": 6
        }
      ]
    },
    {
      "cell_type": "code",
      "source": [
        "df.duplicated().sum()"
      ],
      "metadata": {
        "colab": {
          "base_uri": "https://localhost:8080/"
        },
        "id": "eu6tCebTA5k_",
        "outputId": "48acdc5d-3291-4b9b-dbab-c5846f52c0cd"
      },
      "execution_count": 9,
      "outputs": [
        {
          "output_type": "execute_result",
          "data": {
            "text/plain": [
              "0"
            ]
          },
          "metadata": {},
          "execution_count": 9
        }
      ]
    },
    {
      "cell_type": "code",
      "source": [
        "df.drop_duplicates(inplace=True)"
      ],
      "metadata": {
        "id": "05XKoMGjA5ib"
      },
      "execution_count": 8,
      "outputs": []
    },
    {
      "cell_type": "code",
      "source": [
        "df.duplicated().sum()"
      ],
      "metadata": {
        "colab": {
          "base_uri": "https://localhost:8080/"
        },
        "id": "7kutu85hIi4l",
        "outputId": "9b79c75c-e542-4834-eb33-4b450ffb0f0c"
      },
      "execution_count": 10,
      "outputs": [
        {
          "output_type": "execute_result",
          "data": {
            "text/plain": [
              "0"
            ]
          },
          "metadata": {},
          "execution_count": 10
        }
      ]
    },
    {
      "cell_type": "code",
      "source": [
        "#Correlation-relationship between 2 variables\n",
        "#Positive corr - directly proportional\n",
        "#Negative corr - inversely proportional\n",
        "#Zero corr - no effect\n",
        "df.corr()"
      ],
      "metadata": {
        "colab": {
          "base_uri": "https://localhost:8080/",
          "height": 488
        },
        "id": "KvRLNi3KIj9k",
        "outputId": "08c04b2c-69f2-44ef-b33a-b9e1d08d6a2a"
      },
      "execution_count": 13,
      "outputs": [
        {
          "output_type": "execute_result",
          "data": {
            "text/plain": [
              "               age       sex        cp  trestbps      chol       fbs  \\\n",
              "age       1.000000 -0.094962 -0.063107  0.283121  0.207216  0.119492   \n",
              "sex      -0.094962  1.000000 -0.051740 -0.057647 -0.195571  0.046022   \n",
              "cp       -0.063107 -0.051740  1.000000  0.046486 -0.072682  0.096018   \n",
              "trestbps  0.283121 -0.057647  0.046486  1.000000  0.125256  0.178125   \n",
              "chol      0.207216 -0.195571 -0.072682  0.125256  1.000000  0.011428   \n",
              "fbs       0.119492  0.046022  0.096018  0.178125  0.011428  1.000000   \n",
              "restecg  -0.111590 -0.060351  0.041561 -0.115367 -0.147602 -0.083081   \n",
              "thalach  -0.395235 -0.046439  0.293367 -0.048023 -0.005308 -0.007169   \n",
              "exang     0.093216  0.143460 -0.392937  0.068526  0.064099  0.024729   \n",
              "oldpeak   0.206040  0.098322 -0.146692  0.194600  0.050086  0.004514   \n",
              "slope    -0.164124 -0.032990  0.116854 -0.122873  0.000417 -0.058654   \n",
              "ca        0.302261  0.113060 -0.195356  0.099248  0.086878  0.144935   \n",
              "thal      0.065317  0.211452 -0.160370  0.062870  0.096810 -0.032752   \n",
              "target   -0.221476 -0.283609  0.432080 -0.146269 -0.081437 -0.026826   \n",
              "\n",
              "           restecg   thalach     exang   oldpeak     slope        ca  \\\n",
              "age      -0.111590 -0.395235  0.093216  0.206040 -0.164124  0.302261   \n",
              "sex      -0.060351 -0.046439  0.143460  0.098322 -0.032990  0.113060   \n",
              "cp        0.041561  0.293367 -0.392937 -0.146692  0.116854 -0.195356   \n",
              "trestbps -0.115367 -0.048023  0.068526  0.194600 -0.122873  0.099248   \n",
              "chol     -0.147602 -0.005308  0.064099  0.050086  0.000417  0.086878   \n",
              "fbs      -0.083081 -0.007169  0.024729  0.004514 -0.058654  0.144935   \n",
              "restecg   1.000000  0.041210 -0.068807 -0.056251  0.090402 -0.083112   \n",
              "thalach   0.041210  1.000000 -0.377411 -0.342201  0.384754 -0.228311   \n",
              "exang    -0.068807 -0.377411  1.000000  0.286766 -0.256106  0.125377   \n",
              "oldpeak  -0.056251 -0.342201  0.286766  1.000000 -0.576314  0.236560   \n",
              "slope     0.090402  0.384754 -0.256106 -0.576314  1.000000 -0.092236   \n",
              "ca       -0.083112 -0.228311  0.125377  0.236560 -0.092236  1.000000   \n",
              "thal     -0.010473 -0.094910  0.205826  0.209090 -0.103314  0.160085   \n",
              "target    0.134874  0.419955 -0.435601 -0.429146  0.343940 -0.408992   \n",
              "\n",
              "              thal    target  \n",
              "age       0.065317 -0.221476  \n",
              "sex       0.211452 -0.283609  \n",
              "cp       -0.160370  0.432080  \n",
              "trestbps  0.062870 -0.146269  \n",
              "chol      0.096810 -0.081437  \n",
              "fbs      -0.032752 -0.026826  \n",
              "restecg  -0.010473  0.134874  \n",
              "thalach  -0.094910  0.419955  \n",
              "exang     0.205826 -0.435601  \n",
              "oldpeak   0.209090 -0.429146  \n",
              "slope    -0.103314  0.343940  \n",
              "ca        0.160085 -0.408992  \n",
              "thal      1.000000 -0.343101  \n",
              "target   -0.343101  1.000000  "
            ],
            "text/html": [
              "\n",
              "  <div id=\"df-09a367df-3f09-4892-8656-0d7535b4275f\" class=\"colab-df-container\">\n",
              "    <div>\n",
              "<style scoped>\n",
              "    .dataframe tbody tr th:only-of-type {\n",
              "        vertical-align: middle;\n",
              "    }\n",
              "\n",
              "    .dataframe tbody tr th {\n",
              "        vertical-align: top;\n",
              "    }\n",
              "\n",
              "    .dataframe thead th {\n",
              "        text-align: right;\n",
              "    }\n",
              "</style>\n",
              "<table border=\"1\" class=\"dataframe\">\n",
              "  <thead>\n",
              "    <tr style=\"text-align: right;\">\n",
              "      <th></th>\n",
              "      <th>age</th>\n",
              "      <th>sex</th>\n",
              "      <th>cp</th>\n",
              "      <th>trestbps</th>\n",
              "      <th>chol</th>\n",
              "      <th>fbs</th>\n",
              "      <th>restecg</th>\n",
              "      <th>thalach</th>\n",
              "      <th>exang</th>\n",
              "      <th>oldpeak</th>\n",
              "      <th>slope</th>\n",
              "      <th>ca</th>\n",
              "      <th>thal</th>\n",
              "      <th>target</th>\n",
              "    </tr>\n",
              "  </thead>\n",
              "  <tbody>\n",
              "    <tr>\n",
              "      <th>age</th>\n",
              "      <td>1.000000</td>\n",
              "      <td>-0.094962</td>\n",
              "      <td>-0.063107</td>\n",
              "      <td>0.283121</td>\n",
              "      <td>0.207216</td>\n",
              "      <td>0.119492</td>\n",
              "      <td>-0.111590</td>\n",
              "      <td>-0.395235</td>\n",
              "      <td>0.093216</td>\n",
              "      <td>0.206040</td>\n",
              "      <td>-0.164124</td>\n",
              "      <td>0.302261</td>\n",
              "      <td>0.065317</td>\n",
              "      <td>-0.221476</td>\n",
              "    </tr>\n",
              "    <tr>\n",
              "      <th>sex</th>\n",
              "      <td>-0.094962</td>\n",
              "      <td>1.000000</td>\n",
              "      <td>-0.051740</td>\n",
              "      <td>-0.057647</td>\n",
              "      <td>-0.195571</td>\n",
              "      <td>0.046022</td>\n",
              "      <td>-0.060351</td>\n",
              "      <td>-0.046439</td>\n",
              "      <td>0.143460</td>\n",
              "      <td>0.098322</td>\n",
              "      <td>-0.032990</td>\n",
              "      <td>0.113060</td>\n",
              "      <td>0.211452</td>\n",
              "      <td>-0.283609</td>\n",
              "    </tr>\n",
              "    <tr>\n",
              "      <th>cp</th>\n",
              "      <td>-0.063107</td>\n",
              "      <td>-0.051740</td>\n",
              "      <td>1.000000</td>\n",
              "      <td>0.046486</td>\n",
              "      <td>-0.072682</td>\n",
              "      <td>0.096018</td>\n",
              "      <td>0.041561</td>\n",
              "      <td>0.293367</td>\n",
              "      <td>-0.392937</td>\n",
              "      <td>-0.146692</td>\n",
              "      <td>0.116854</td>\n",
              "      <td>-0.195356</td>\n",
              "      <td>-0.160370</td>\n",
              "      <td>0.432080</td>\n",
              "    </tr>\n",
              "    <tr>\n",
              "      <th>trestbps</th>\n",
              "      <td>0.283121</td>\n",
              "      <td>-0.057647</td>\n",
              "      <td>0.046486</td>\n",
              "      <td>1.000000</td>\n",
              "      <td>0.125256</td>\n",
              "      <td>0.178125</td>\n",
              "      <td>-0.115367</td>\n",
              "      <td>-0.048023</td>\n",
              "      <td>0.068526</td>\n",
              "      <td>0.194600</td>\n",
              "      <td>-0.122873</td>\n",
              "      <td>0.099248</td>\n",
              "      <td>0.062870</td>\n",
              "      <td>-0.146269</td>\n",
              "    </tr>\n",
              "    <tr>\n",
              "      <th>chol</th>\n",
              "      <td>0.207216</td>\n",
              "      <td>-0.195571</td>\n",
              "      <td>-0.072682</td>\n",
              "      <td>0.125256</td>\n",
              "      <td>1.000000</td>\n",
              "      <td>0.011428</td>\n",
              "      <td>-0.147602</td>\n",
              "      <td>-0.005308</td>\n",
              "      <td>0.064099</td>\n",
              "      <td>0.050086</td>\n",
              "      <td>0.000417</td>\n",
              "      <td>0.086878</td>\n",
              "      <td>0.096810</td>\n",
              "      <td>-0.081437</td>\n",
              "    </tr>\n",
              "    <tr>\n",
              "      <th>fbs</th>\n",
              "      <td>0.119492</td>\n",
              "      <td>0.046022</td>\n",
              "      <td>0.096018</td>\n",
              "      <td>0.178125</td>\n",
              "      <td>0.011428</td>\n",
              "      <td>1.000000</td>\n",
              "      <td>-0.083081</td>\n",
              "      <td>-0.007169</td>\n",
              "      <td>0.024729</td>\n",
              "      <td>0.004514</td>\n",
              "      <td>-0.058654</td>\n",
              "      <td>0.144935</td>\n",
              "      <td>-0.032752</td>\n",
              "      <td>-0.026826</td>\n",
              "    </tr>\n",
              "    <tr>\n",
              "      <th>restecg</th>\n",
              "      <td>-0.111590</td>\n",
              "      <td>-0.060351</td>\n",
              "      <td>0.041561</td>\n",
              "      <td>-0.115367</td>\n",
              "      <td>-0.147602</td>\n",
              "      <td>-0.083081</td>\n",
              "      <td>1.000000</td>\n",
              "      <td>0.041210</td>\n",
              "      <td>-0.068807</td>\n",
              "      <td>-0.056251</td>\n",
              "      <td>0.090402</td>\n",
              "      <td>-0.083112</td>\n",
              "      <td>-0.010473</td>\n",
              "      <td>0.134874</td>\n",
              "    </tr>\n",
              "    <tr>\n",
              "      <th>thalach</th>\n",
              "      <td>-0.395235</td>\n",
              "      <td>-0.046439</td>\n",
              "      <td>0.293367</td>\n",
              "      <td>-0.048023</td>\n",
              "      <td>-0.005308</td>\n",
              "      <td>-0.007169</td>\n",
              "      <td>0.041210</td>\n",
              "      <td>1.000000</td>\n",
              "      <td>-0.377411</td>\n",
              "      <td>-0.342201</td>\n",
              "      <td>0.384754</td>\n",
              "      <td>-0.228311</td>\n",
              "      <td>-0.094910</td>\n",
              "      <td>0.419955</td>\n",
              "    </tr>\n",
              "    <tr>\n",
              "      <th>exang</th>\n",
              "      <td>0.093216</td>\n",
              "      <td>0.143460</td>\n",
              "      <td>-0.392937</td>\n",
              "      <td>0.068526</td>\n",
              "      <td>0.064099</td>\n",
              "      <td>0.024729</td>\n",
              "      <td>-0.068807</td>\n",
              "      <td>-0.377411</td>\n",
              "      <td>1.000000</td>\n",
              "      <td>0.286766</td>\n",
              "      <td>-0.256106</td>\n",
              "      <td>0.125377</td>\n",
              "      <td>0.205826</td>\n",
              "      <td>-0.435601</td>\n",
              "    </tr>\n",
              "    <tr>\n",
              "      <th>oldpeak</th>\n",
              "      <td>0.206040</td>\n",
              "      <td>0.098322</td>\n",
              "      <td>-0.146692</td>\n",
              "      <td>0.194600</td>\n",
              "      <td>0.050086</td>\n",
              "      <td>0.004514</td>\n",
              "      <td>-0.056251</td>\n",
              "      <td>-0.342201</td>\n",
              "      <td>0.286766</td>\n",
              "      <td>1.000000</td>\n",
              "      <td>-0.576314</td>\n",
              "      <td>0.236560</td>\n",
              "      <td>0.209090</td>\n",
              "      <td>-0.429146</td>\n",
              "    </tr>\n",
              "    <tr>\n",
              "      <th>slope</th>\n",
              "      <td>-0.164124</td>\n",
              "      <td>-0.032990</td>\n",
              "      <td>0.116854</td>\n",
              "      <td>-0.122873</td>\n",
              "      <td>0.000417</td>\n",
              "      <td>-0.058654</td>\n",
              "      <td>0.090402</td>\n",
              "      <td>0.384754</td>\n",
              "      <td>-0.256106</td>\n",
              "      <td>-0.576314</td>\n",
              "      <td>1.000000</td>\n",
              "      <td>-0.092236</td>\n",
              "      <td>-0.103314</td>\n",
              "      <td>0.343940</td>\n",
              "    </tr>\n",
              "    <tr>\n",
              "      <th>ca</th>\n",
              "      <td>0.302261</td>\n",
              "      <td>0.113060</td>\n",
              "      <td>-0.195356</td>\n",
              "      <td>0.099248</td>\n",
              "      <td>0.086878</td>\n",
              "      <td>0.144935</td>\n",
              "      <td>-0.083112</td>\n",
              "      <td>-0.228311</td>\n",
              "      <td>0.125377</td>\n",
              "      <td>0.236560</td>\n",
              "      <td>-0.092236</td>\n",
              "      <td>1.000000</td>\n",
              "      <td>0.160085</td>\n",
              "      <td>-0.408992</td>\n",
              "    </tr>\n",
              "    <tr>\n",
              "      <th>thal</th>\n",
              "      <td>0.065317</td>\n",
              "      <td>0.211452</td>\n",
              "      <td>-0.160370</td>\n",
              "      <td>0.062870</td>\n",
              "      <td>0.096810</td>\n",
              "      <td>-0.032752</td>\n",
              "      <td>-0.010473</td>\n",
              "      <td>-0.094910</td>\n",
              "      <td>0.205826</td>\n",
              "      <td>0.209090</td>\n",
              "      <td>-0.103314</td>\n",
              "      <td>0.160085</td>\n",
              "      <td>1.000000</td>\n",
              "      <td>-0.343101</td>\n",
              "    </tr>\n",
              "    <tr>\n",
              "      <th>target</th>\n",
              "      <td>-0.221476</td>\n",
              "      <td>-0.283609</td>\n",
              "      <td>0.432080</td>\n",
              "      <td>-0.146269</td>\n",
              "      <td>-0.081437</td>\n",
              "      <td>-0.026826</td>\n",
              "      <td>0.134874</td>\n",
              "      <td>0.419955</td>\n",
              "      <td>-0.435601</td>\n",
              "      <td>-0.429146</td>\n",
              "      <td>0.343940</td>\n",
              "      <td>-0.408992</td>\n",
              "      <td>-0.343101</td>\n",
              "      <td>1.000000</td>\n",
              "    </tr>\n",
              "  </tbody>\n",
              "</table>\n",
              "</div>\n",
              "    <div class=\"colab-df-buttons\">\n",
              "\n",
              "  <div class=\"colab-df-container\">\n",
              "    <button class=\"colab-df-convert\" onclick=\"convertToInteractive('df-09a367df-3f09-4892-8656-0d7535b4275f')\"\n",
              "            title=\"Convert this dataframe to an interactive table.\"\n",
              "            style=\"display:none;\">\n",
              "\n",
              "  <svg xmlns=\"http://www.w3.org/2000/svg\" height=\"24px\" viewBox=\"0 -960 960 960\">\n",
              "    <path d=\"M120-120v-720h720v720H120Zm60-500h600v-160H180v160Zm220 220h160v-160H400v160Zm0 220h160v-160H400v160ZM180-400h160v-160H180v160Zm440 0h160v-160H620v160ZM180-180h160v-160H180v160Zm440 0h160v-160H620v160Z\"/>\n",
              "  </svg>\n",
              "    </button>\n",
              "\n",
              "  <style>\n",
              "    .colab-df-container {\n",
              "      display:flex;\n",
              "      gap: 12px;\n",
              "    }\n",
              "\n",
              "    .colab-df-convert {\n",
              "      background-color: #E8F0FE;\n",
              "      border: none;\n",
              "      border-radius: 50%;\n",
              "      cursor: pointer;\n",
              "      display: none;\n",
              "      fill: #1967D2;\n",
              "      height: 32px;\n",
              "      padding: 0 0 0 0;\n",
              "      width: 32px;\n",
              "    }\n",
              "\n",
              "    .colab-df-convert:hover {\n",
              "      background-color: #E2EBFA;\n",
              "      box-shadow: 0px 1px 2px rgba(60, 64, 67, 0.3), 0px 1px 3px 1px rgba(60, 64, 67, 0.15);\n",
              "      fill: #174EA6;\n",
              "    }\n",
              "\n",
              "    .colab-df-buttons div {\n",
              "      margin-bottom: 4px;\n",
              "    }\n",
              "\n",
              "    [theme=dark] .colab-df-convert {\n",
              "      background-color: #3B4455;\n",
              "      fill: #D2E3FC;\n",
              "    }\n",
              "\n",
              "    [theme=dark] .colab-df-convert:hover {\n",
              "      background-color: #434B5C;\n",
              "      box-shadow: 0px 1px 3px 1px rgba(0, 0, 0, 0.15);\n",
              "      filter: drop-shadow(0px 1px 2px rgba(0, 0, 0, 0.3));\n",
              "      fill: #FFFFFF;\n",
              "    }\n",
              "  </style>\n",
              "\n",
              "    <script>\n",
              "      const buttonEl =\n",
              "        document.querySelector('#df-09a367df-3f09-4892-8656-0d7535b4275f button.colab-df-convert');\n",
              "      buttonEl.style.display =\n",
              "        google.colab.kernel.accessAllowed ? 'block' : 'none';\n",
              "\n",
              "      async function convertToInteractive(key) {\n",
              "        const element = document.querySelector('#df-09a367df-3f09-4892-8656-0d7535b4275f');\n",
              "        const dataTable =\n",
              "          await google.colab.kernel.invokeFunction('convertToInteractive',\n",
              "                                                    [key], {});\n",
              "        if (!dataTable) return;\n",
              "\n",
              "        const docLinkHtml = 'Like what you see? Visit the ' +\n",
              "          '<a target=\"_blank\" href=https://colab.research.google.com/notebooks/data_table.ipynb>data table notebook</a>'\n",
              "          + ' to learn more about interactive tables.';\n",
              "        element.innerHTML = '';\n",
              "        dataTable['output_type'] = 'display_data';\n",
              "        await google.colab.output.renderOutput(dataTable, element);\n",
              "        const docLink = document.createElement('div');\n",
              "        docLink.innerHTML = docLinkHtml;\n",
              "        element.appendChild(docLink);\n",
              "      }\n",
              "    </script>\n",
              "  </div>\n",
              "\n",
              "\n",
              "<div id=\"df-2a0f5b9c-cf07-45eb-90b9-27d2ea1232af\">\n",
              "  <button class=\"colab-df-quickchart\" onclick=\"quickchart('df-2a0f5b9c-cf07-45eb-90b9-27d2ea1232af')\"\n",
              "            title=\"Suggest charts.\"\n",
              "            style=\"display:none;\">\n",
              "\n",
              "<svg xmlns=\"http://www.w3.org/2000/svg\" height=\"24px\"viewBox=\"0 0 24 24\"\n",
              "     width=\"24px\">\n",
              "    <g>\n",
              "        <path d=\"M19 3H5c-1.1 0-2 .9-2 2v14c0 1.1.9 2 2 2h14c1.1 0 2-.9 2-2V5c0-1.1-.9-2-2-2zM9 17H7v-7h2v7zm4 0h-2V7h2v10zm4 0h-2v-4h2v4z\"/>\n",
              "    </g>\n",
              "</svg>\n",
              "  </button>\n",
              "\n",
              "<style>\n",
              "  .colab-df-quickchart {\n",
              "      --bg-color: #E8F0FE;\n",
              "      --fill-color: #1967D2;\n",
              "      --hover-bg-color: #E2EBFA;\n",
              "      --hover-fill-color: #174EA6;\n",
              "      --disabled-fill-color: #AAA;\n",
              "      --disabled-bg-color: #DDD;\n",
              "  }\n",
              "\n",
              "  [theme=dark] .colab-df-quickchart {\n",
              "      --bg-color: #3B4455;\n",
              "      --fill-color: #D2E3FC;\n",
              "      --hover-bg-color: #434B5C;\n",
              "      --hover-fill-color: #FFFFFF;\n",
              "      --disabled-bg-color: #3B4455;\n",
              "      --disabled-fill-color: #666;\n",
              "  }\n",
              "\n",
              "  .colab-df-quickchart {\n",
              "    background-color: var(--bg-color);\n",
              "    border: none;\n",
              "    border-radius: 50%;\n",
              "    cursor: pointer;\n",
              "    display: none;\n",
              "    fill: var(--fill-color);\n",
              "    height: 32px;\n",
              "    padding: 0;\n",
              "    width: 32px;\n",
              "  }\n",
              "\n",
              "  .colab-df-quickchart:hover {\n",
              "    background-color: var(--hover-bg-color);\n",
              "    box-shadow: 0 1px 2px rgba(60, 64, 67, 0.3), 0 1px 3px 1px rgba(60, 64, 67, 0.15);\n",
              "    fill: var(--button-hover-fill-color);\n",
              "  }\n",
              "\n",
              "  .colab-df-quickchart-complete:disabled,\n",
              "  .colab-df-quickchart-complete:disabled:hover {\n",
              "    background-color: var(--disabled-bg-color);\n",
              "    fill: var(--disabled-fill-color);\n",
              "    box-shadow: none;\n",
              "  }\n",
              "\n",
              "  .colab-df-spinner {\n",
              "    border: 2px solid var(--fill-color);\n",
              "    border-color: transparent;\n",
              "    border-bottom-color: var(--fill-color);\n",
              "    animation:\n",
              "      spin 1s steps(1) infinite;\n",
              "  }\n",
              "\n",
              "  @keyframes spin {\n",
              "    0% {\n",
              "      border-color: transparent;\n",
              "      border-bottom-color: var(--fill-color);\n",
              "      border-left-color: var(--fill-color);\n",
              "    }\n",
              "    20% {\n",
              "      border-color: transparent;\n",
              "      border-left-color: var(--fill-color);\n",
              "      border-top-color: var(--fill-color);\n",
              "    }\n",
              "    30% {\n",
              "      border-color: transparent;\n",
              "      border-left-color: var(--fill-color);\n",
              "      border-top-color: var(--fill-color);\n",
              "      border-right-color: var(--fill-color);\n",
              "    }\n",
              "    40% {\n",
              "      border-color: transparent;\n",
              "      border-right-color: var(--fill-color);\n",
              "      border-top-color: var(--fill-color);\n",
              "    }\n",
              "    60% {\n",
              "      border-color: transparent;\n",
              "      border-right-color: var(--fill-color);\n",
              "    }\n",
              "    80% {\n",
              "      border-color: transparent;\n",
              "      border-right-color: var(--fill-color);\n",
              "      border-bottom-color: var(--fill-color);\n",
              "    }\n",
              "    90% {\n",
              "      border-color: transparent;\n",
              "      border-bottom-color: var(--fill-color);\n",
              "    }\n",
              "  }\n",
              "</style>\n",
              "\n",
              "  <script>\n",
              "    async function quickchart(key) {\n",
              "      const quickchartButtonEl =\n",
              "        document.querySelector('#' + key + ' button');\n",
              "      quickchartButtonEl.disabled = true;  // To prevent multiple clicks.\n",
              "      quickchartButtonEl.classList.add('colab-df-spinner');\n",
              "      try {\n",
              "        const charts = await google.colab.kernel.invokeFunction(\n",
              "            'suggestCharts', [key], {});\n",
              "      } catch (error) {\n",
              "        console.error('Error during call to suggestCharts:', error);\n",
              "      }\n",
              "      quickchartButtonEl.classList.remove('colab-df-spinner');\n",
              "      quickchartButtonEl.classList.add('colab-df-quickchart-complete');\n",
              "    }\n",
              "    (() => {\n",
              "      let quickchartButtonEl =\n",
              "        document.querySelector('#df-2a0f5b9c-cf07-45eb-90b9-27d2ea1232af button');\n",
              "      quickchartButtonEl.style.display =\n",
              "        google.colab.kernel.accessAllowed ? 'block' : 'none';\n",
              "    })();\n",
              "  </script>\n",
              "</div>\n",
              "    </div>\n",
              "  </div>\n"
            ]
          },
          "metadata": {},
          "execution_count": 13
        }
      ]
    },
    {
      "cell_type": "code",
      "source": [
        "plt.figure(figsize=(20,10))\n",
        "sns.heatmap(df.corr(),annot=True)"
      ],
      "metadata": {
        "colab": {
          "base_uri": "https://localhost:8080/",
          "height": 844
        },
        "id": "vtnMgEqkIj6y",
        "outputId": "a2c9ad2b-23b2-4d3e-e64e-0aa892a75a6c"
      },
      "execution_count": 16,
      "outputs": [
        {
          "output_type": "execute_result",
          "data": {
            "text/plain": [
              "<Axes: >"
            ]
          },
          "metadata": {},
          "execution_count": 16
        },
        {
          "output_type": "display_data",
          "data": {
            "text/plain": [
              "<Figure size 2000x1000 with 2 Axes>"
            ],
            "image/png": "[encoded data removed]"
          },
          "metadata": {}
        }
      ]
    },
    {
      "cell_type": "code",
      "source": [
        "df.describe()"
      ],
      "metadata": {
        "colab": {
          "base_uri": "https://localhost:8080/",
          "height": 300
        },
        "id": "t6NebIv3Ij4Y",
        "outputId": "1bba50bc-4585-49ea-eced-55d9871cc61d"
      },
      "execution_count": 17,
      "outputs": [
        {
          "output_type": "execute_result",
          "data": {
            "text/plain": [
              "             age         sex          cp    trestbps        chol         fbs  \\\n",
              "count  302.00000  302.000000  302.000000  302.000000  302.000000  302.000000   \n",
              "mean    54.42053    0.682119    0.963576  131.602649  246.500000    0.149007   \n",
              "std      9.04797    0.466426    1.032044   17.563394   51.753489    0.356686   \n",
              "min     29.00000    0.000000    0.000000   94.000000  126.000000    0.000000   \n",
              "25%     48.00000    0.000000    0.000000  120.000000  211.000000    0.000000   \n",
              "50%     55.50000    1.000000    1.000000  130.000000  240.500000    0.000000   \n",
              "75%     61.00000    1.000000    2.000000  140.000000  274.750000    0.000000   \n",
              "max     77.00000    1.000000    3.000000  200.000000  564.000000    1.000000   \n",
              "\n",
              "          restecg     thalach       exang     oldpeak       slope          ca  \\\n",
              "count  302.000000  302.000000  302.000000  302.000000  302.000000  302.000000   \n",
              "mean     0.526490  149.569536    0.327815    1.043046    1.397351    0.718543   \n",
              "std      0.526027   22.903527    0.470196    1.161452    0.616274    1.006748   \n",
              "min      0.000000   71.000000    0.000000    0.000000    0.000000    0.000000   \n",
              "25%      0.000000  133.250000    0.000000    0.000000    1.000000    0.000000   \n",
              "50%      1.000000  152.500000    0.000000    0.800000    1.000000    0.000000   \n",
              "75%      1.000000  166.000000    1.000000    1.600000    2.000000    1.000000   \n",
              "max      2.000000  202.000000    1.000000    6.200000    2.000000    4.000000   \n",
              "\n",
              "             thal      target  \n",
              "count  302.000000  302.000000  \n",
              "mean     2.314570    0.543046  \n",
              "std      0.613026    0.498970  \n",
              "min      0.000000    0.000000  \n",
              "25%      2.000000    0.000000  \n",
              "50%      2.000000    1.000000  \n",
              "75%      3.000000    1.000000  \n",
              "max      3.000000    1.000000  "
            ],
            "text/html": [
              "\n",
              "  <div id=\"df-80dfc15b-1e91-494c-9633-b26a709d6b08\" class=\"colab-df-container\">\n",
              "    <div>\n",
              "<style scoped>\n",
              "    .dataframe tbody tr th:only-of-type {\n",
              "        vertical-align: middle;\n",
              "    }\n",
              "\n",
              "    .dataframe tbody tr th {\n",
              "        vertical-align: top;\n",
              "    }\n",
              "\n",
              "    .dataframe thead th {\n",
              "        text-align: right;\n",
              "    }\n",
              "</style>\n",
              "<table border=\"1\" class=\"dataframe\">\n",
              "  <thead>\n",
              "    <tr style=\"text-align: right;\">\n",
              "      <th></th>\n",
              "      <th>age</th>\n",
              "      <th>sex</th>\n",
              "      <th>cp</th>\n",
              "      <th>trestbps</th>\n",
              "      <th>chol</th>\n",
              "      <th>fbs</th>\n",
              "      <th>restecg</th>\n",
              "      <th>thalach</th>\n",
              "      <th>exang</th>\n",
              "      <th>oldpeak</th>\n",
              "      <th>slope</th>\n",
              "      <th>ca</th>\n",
              "      <th>thal</th>\n",
              "      <th>target</th>\n",
              "    </tr>\n",
              "  </thead>\n",
              "  <tbody>\n",
              "    <tr>\n",
              "      <th>count</th>\n",
              "      <td>302.00000</td>\n",
              "      <td>302.000000</td>\n",
              "      <td>302.000000</td>\n",
              "      <td>302.000000</td>\n",
              "      <td>302.000000</td>\n",
              "      <td>302.000000</td>\n",
              "      <td>302.000000</td>\n",
              "      <td>302.000000</td>\n",
              "      <td>302.000000</td>\n",
              "      <td>302.000000</td>\n",
              "      <td>302.000000</td>\n",
              "      <td>302.000000</td>\n",
              "      <td>302.000000</td>\n",
              "      <td>302.000000</td>\n",
              "    </tr>\n",
              "    <tr>\n",
              "      <th>mean</th>\n",
              "      <td>54.42053</td>\n",
              "      <td>0.682119</td>\n",
              "      <td>0.963576</td>\n",
              "      <td>131.602649</td>\n",
              "      <td>246.500000</td>\n",
              "      <td>0.149007</td>\n",
              "      <td>0.526490</td>\n",
              "      <td>149.569536</td>\n",
              "      <td>0.327815</td>\n",
              "      <td>1.043046</td>\n",
              "      <td>1.397351</td>\n",
              "      <td>0.718543</td>\n",
              "      <td>2.314570</td>\n",
              "      <td>0.543046</td>\n",
              "    </tr>\n",
              "    <tr>\n",
              "      <th>std</th>\n",
              "      <td>9.04797</td>\n",
              "      <td>0.466426</td>\n",
              "      <td>1.032044</td>\n",
              "      <td>17.563394</td>\n",
              "      <td>51.753489</td>\n",
              "      <td>0.356686</td>\n",
              "      <td>0.526027</td>\n",
              "      <td>22.903527</td>\n",
              "      <td>0.470196</td>\n",
              "      <td>1.161452</td>\n",
              "      <td>0.616274</td>\n",
              "      <td>1.006748</td>\n",
              "      <td>0.613026</td>\n",
              "      <td>0.498970</td>\n",
              "    </tr>\n",
              "    <tr>\n",
              "      <th>min</th>\n",
              "      <td>29.00000</td>\n",
              "      <td>0.000000</td>\n",
              "      <td>0.000000</td>\n",
              "      <td>94.000000</td>\n",
              "      <td>126.000000</td>\n",
              "      <td>0.000000</td>\n",
              "      <td>0.000000</td>\n",
              "      <td>71.000000</td>\n",
              "      <td>0.000000</td>\n",
              "      <td>0.000000</td>\n",
              "      <td>0.000000</td>\n",
              "      <td>0.000000</td>\n",
              "      <td>0.000000</td>\n",
              "      <td>0.000000</td>\n",
              "    </tr>\n",
              "    <tr>\n",
              "      <th>25%</th>\n",
              "      <td>48.00000</td>\n",
              "      <td>0.000000</td>\n",
              "      <td>0.000000</td>\n",
              "      <td>120.000000</td>\n",
              "      <td>211.000000</td>\n",
              "      <td>0.000000</td>\n",
              "      <td>0.000000</td>\n",
              "      <td>133.250000</td>\n",
              "      <td>0.000000</td>\n",
              "      <td>0.000000</td>\n",
              "      <td>1.000000</td>\n",
              "      <td>0.000000</td>\n",
              "      <td>2.000000</td>\n",
              "      <td>0.000000</td>\n",
              "    </tr>\n",
              "    <tr>\n",
              "      <th>50%</th>\n",
              "      <td>55.50000</td>\n",
              "      <td>1.000000</td>\n",
              "      <td>1.000000</td>\n",
              "      <td>130.000000</td>\n",
              "      <td>240.500000</td>\n",
              "      <td>0.000000</td>\n",
              "      <td>1.000000</td>\n",
              "      <td>152.500000</td>\n",
              "      <td>0.000000</td>\n",
              "      <td>0.800000</td>\n",
              "      <td>1.000000</td>\n",
              "      <td>0.000000</td>\n",
              "      <td>2.000000</td>\n",
              "      <td>1.000000</td>\n",
              "    </tr>\n",
              "    <tr>\n",
              "      <th>75%</th>\n",
              "      <td>61.00000</td>\n",
              "      <td>1.000000</td>\n",
              "      <td>2.000000</td>\n",
              "      <td>140.000000</td>\n",
              "      <td>274.750000</td>\n",
              "      <td>0.000000</td>\n",
              "      <td>1.000000</td>\n",
              "      <td>166.000000</td>\n",
              "      <td>1.000000</td>\n",
              "      <td>1.600000</td>\n",
              "      <td>2.000000</td>\n",
              "      <td>1.000000</td>\n",
              "      <td>3.000000</td>\n",
              "      <td>1.000000</td>\n",
              "    </tr>\n",
              "    <tr>\n",
              "      <th>max</th>\n",
              "      <td>77.00000</td>\n",
              "      <td>1.000000</td>\n",
              "      <td>3.000000</td>\n",
              "      <td>200.000000</td>\n",
              "      <td>564.000000</td>\n",
              "      <td>1.000000</td>\n",
              "      <td>2.000000</td>\n",
              "      <td>202.000000</td>\n",
              "      <td>1.000000</td>\n",
              "      <td>6.200000</td>\n",
              "      <td>2.000000</td>\n",
              "      <td>4.000000</td>\n",
              "      <td>3.000000</td>\n",
              "      <td>1.000000</td>\n",
              "    </tr>\n",
              "  </tbody>\n",
              "</table>\n",
              "</div>\n",
              "    <div class=\"colab-df-buttons\">\n",
              "\n",
              "  <div class=\"colab-df-container\">\n",
              "    <button class=\"colab-df-convert\" onclick=\"convertToInteractive('df-80dfc15b-1e91-494c-9633-b26a709d6b08')\"\n",
              "            title=\"Convert this dataframe to an interactive table.\"\n",
              "            style=\"display:none;\">\n",
              "\n",
              "  <svg xmlns=\"http://www.w3.org/2000/svg\" height=\"24px\" viewBox=\"0 -960 960 960\">\n",
              "    <path d=\"M120-120v-720h720v720H120Zm60-500h600v-160H180v160Zm220 220h160v-160H400v160Zm0 220h160v-160H400v160ZM180-400h160v-160H180v160Zm440 0h160v-160H620v160ZM180-180h160v-160H180v160Zm440 0h160v-160H620v160Z\"/>\n",
              "  </svg>\n",
              "    </button>\n",
              "\n",
              "  <style>\n",
              "    .colab-df-container {\n",
              "      display:flex;\n",
              "      gap: 12px;\n",
              "    }\n",
              "\n",
              "    .colab-df-convert {\n",
              "      background-color: #E8F0FE;\n",
              "      border: none;\n",
              "      border-radius: 50%;\n",
              "      cursor: pointer;\n",
              "      display: none;\n",
              "      fill: #1967D2;\n",
              "      height: 32px;\n",
              "      padding: 0 0 0 0;\n",
              "      width: 32px;\n",
              "    }\n",
              "\n",
              "    .colab-df-convert:hover {\n",
              "      background-color: #E2EBFA;\n",
              "      box-shadow: 0px 1px 2px rgba(60, 64, 67, 0.3), 0px 1px 3px 1px rgba(60, 64, 67, 0.15);\n",
              "      fill: #174EA6;\n",
              "    }\n",
              "\n",
              "    .colab-df-buttons div {\n",
              "      margin-bottom: 4px;\n",
              "    }\n",
              "\n",
              "    [theme=dark] .colab-df-convert {\n",
              "      background-color: #3B4455;\n",
              "      fill: #D2E3FC;\n",
              "    }\n",
              "\n",
              "    [theme=dark] .colab-df-convert:hover {\n",
              "      background-color: #434B5C;\n",
              "      box-shadow: 0px 1px 3px 1px rgba(0, 0, 0, 0.15);\n",
              "      filter: drop-shadow(0px 1px 2px rgba(0, 0, 0, 0.3));\n",
              "      fill: #FFFFFF;\n",
              "    }\n",
              "  </style>\n",
              "\n",
              "    <script>\n",
              "      const buttonEl =\n",
              "        document.querySelector('#df-80dfc15b-1e91-494c-9633-b26a709d6b08 button.colab-df-convert');\n",
              "      buttonEl.style.display =\n",
              "        google.colab.kernel.accessAllowed ? 'block' : 'none';\n",
              "\n",
              "      async function convertToInteractive(key) {\n",
              "        const element = document.querySelector('#df-80dfc15b-1e91-494c-9633-b26a709d6b08');\n",
              "        const dataTable =\n",
              "          await google.colab.kernel.invokeFunction('convertToInteractive',\n",
              "                                                    [key], {});\n",
              "        if (!dataTable) return;\n",
              "\n",
              "        const docLinkHtml = 'Like what you see? Visit the ' +\n",
              "          '<a target=\"_blank\" href=https://colab.research.google.com/notebooks/data_table.ipynb>data table notebook</a>'\n",
              "          + ' to learn more about interactive tables.';\n",
              "        element.innerHTML = '';\n",
              "        dataTable['output_type'] = 'display_data';\n",
              "        await google.colab.output.renderOutput(dataTable, element);\n",
              "        const docLink = document.createElement('div');\n",
              "        docLink.innerHTML = docLinkHtml;\n",
              "        element.appendChild(docLink);\n",
              "      }\n",
              "    </script>\n",
              "  </div>\n",
              "\n",
              "\n",
              "<div id=\"df-88f21a66-6b42-445d-b5e9-b49f068202cc\">\n",
              "  <button class=\"colab-df-quickchart\" onclick=\"quickchart('df-88f21a66-6b42-445d-b5e9-b49f068202cc')\"\n",
              "            title=\"Suggest charts.\"\n",
              "            style=\"display:none;\">\n",
              "\n",
              "<svg xmlns=\"http://www.w3.org/2000/svg\" height=\"24px\"viewBox=\"0 0 24 24\"\n",
              "     width=\"24px\">\n",
              "    <g>\n",
              "        <path d=\"M19 3H5c-1.1 0-2 .9-2 2v14c0 1.1.9 2 2 2h14c1.1 0 2-.9 2-2V5c0-1.1-.9-2-2-2zM9 17H7v-7h2v7zm4 0h-2V7h2v10zm4 0h-2v-4h2v4z\"/>\n",
              "    </g>\n",
              "</svg>\n",
              "  </button>\n",
              "\n",
              "<style>\n",
              "  .colab-df-quickchart {\n",
              "      --bg-color: #E8F0FE;\n",
              "      --fill-color: #1967D2;\n",
              "      --hover-bg-color: #E2EBFA;\n",
              "      --hover-fill-color: #174EA6;\n",
              "      --disabled-fill-color: #AAA;\n",
              "      --disabled-bg-color: #DDD;\n",
              "  }\n",
              "\n",
              "  [theme=dark] .colab-df-quickchart {\n",
              "      --bg-color: #3B4455;\n",
              "      --fill-color: #D2E3FC;\n",
              "      --hover-bg-color: #434B5C;\n",
              "      --hover-fill-color: #FFFFFF;\n",
              "      --disabled-bg-color: #3B4455;\n",
              "      --disabled-fill-color: #666;\n",
              "  }\n",
              "\n",
              "  .colab-df-quickchart {\n",
              "    background-color: var(--bg-color);\n",
              "    border: none;\n",
              "    border-radius: 50%;\n",
              "    cursor: pointer;\n",
              "    display: none;\n",
              "    fill: var(--fill-color);\n",
              "    height: 32px;\n",
              "    padding: 0;\n",
              "    width: 32px;\n",
              "  }\n",
              "\n",
              "  .colab-df-quickchart:hover {\n",
              "    background-color: var(--hover-bg-color);\n",
              "    box-shadow: 0 1px 2px rgba(60, 64, 67, 0.3), 0 1px 3px 1px rgba(60, 64, 67, 0.15);\n",
              "    fill: var(--button-hover-fill-color);\n",
              "  }\n",
              "\n",
              "  .colab-df-quickchart-complete:disabled,\n",
              "  .colab-df-quickchart-complete:disabled:hover {\n",
              "    background-color: var(--disabled-bg-color);\n",
              "    fill: var(--disabled-fill-color);\n",
              "    box-shadow: none;\n",
              "  }\n",
              "\n",
              "  .colab-df-spinner {\n",
              "    border: 2px solid var(--fill-color);\n",
              "    border-color: transparent;\n",
              "    border-bottom-color: var(--fill-color);\n",
              "    animation:\n",
              "      spin 1s steps(1) infinite;\n",
              "  }\n",
              "\n",
              "  @keyframes spin {\n",
              "    0% {\n",
              "      border-color: transparent;\n",
              "      border-bottom-color: var(--fill-color);\n",
              "      border-left-color: var(--fill-color);\n",
              "    }\n",
              "    20% {\n",
              "      border-color: transparent;\n",
              "      border-left-color: var(--fill-color);\n",
              "      border-top-color: var(--fill-color);\n",
              "    }\n",
              "    30% {\n",
              "      border-color: transparent;\n",
              "      border-left-color: var(--fill-color);\n",
              "      border-top-color: var(--fill-color);\n",
              "      border-right-color: var(--fill-color);\n",
              "    }\n",
              "    40% {\n",
              "      border-color: transparent;\n",
              "      border-right-color: var(--fill-color);\n",
              "      border-top-color: var(--fill-color);\n",
              "    }\n",
              "    60% {\n",
              "      border-color: transparent;\n",
              "      border-right-color: var(--fill-color);\n",
              "    }\n",
              "    80% {\n",
              "      border-color: transparent;\n",
              "      border-right-color: var(--fill-color);\n",
              "      border-bottom-color: var(--fill-color);\n",
              "    }\n",
              "    90% {\n",
              "      border-color: transparent;\n",
              "      border-bottom-color: var(--fill-color);\n",
              "    }\n",
              "  }\n",
              "</style>\n",
              "\n",
              "  <script>\n",
              "    async function quickchart(key) {\n",
              "      const quickchartButtonEl =\n",
              "        document.querySelector('#' + key + ' button');\n",
              "      quickchartButtonEl.disabled = true;  // To prevent multiple clicks.\n",
              "      quickchartButtonEl.classList.add('colab-df-spinner');\n",
              "      try {\n",
              "        const charts = await google.colab.kernel.invokeFunction(\n",
              "            'suggestCharts', [key], {});\n",
              "      } catch (error) {\n",
              "        console.error('Error during call to suggestCharts:', error);\n",
              "      }\n",
              "      quickchartButtonEl.classList.remove('colab-df-spinner');\n",
              "      quickchartButtonEl.classList.add('colab-df-quickchart-complete');\n",
              "    }\n",
              "    (() => {\n",
              "      let quickchartButtonEl =\n",
              "        document.querySelector('#df-88f21a66-6b42-445d-b5e9-b49f068202cc button');\n",
              "      quickchartButtonEl.style.display =\n",
              "        google.colab.kernel.accessAllowed ? 'block' : 'none';\n",
              "    })();\n",
              "  </script>\n",
              "</div>\n",
              "    </div>\n",
              "  </div>\n"
            ]
          },
          "metadata": {},
          "execution_count": 17
        }
      ]
    },
    {
      "cell_type": "code",
      "source": [
        "#check for majority of males/females recorded\n",
        "df['sex'].value_counts()    #0-female,1-male"
      ],
      "metadata": {
        "colab": {
          "base_uri": "https://localhost:8080/"
        },
        "id": "UmTI4NaSIj1l",
        "outputId": "654cd1d2-3b09-4c20-98bb-7c6ef52af949"
      },
      "execution_count": 19,
      "outputs": [
        {
          "output_type": "execute_result",
          "data": {
            "text/plain": [
              "1    206\n",
              "0     96\n",
              "Name: sex, dtype: int64"
            ]
          },
          "metadata": {},
          "execution_count": 19
        }
      ]
    },
    {
      "cell_type": "code",
      "source": [
        "#check for majority of heart patients/healthy people\n",
        "df['target'].value_counts()     #1-heart patients,0-healthy people"
      ],
      "metadata": {
        "colab": {
          "base_uri": "https://localhost:8080/"
        },
        "id": "BQWJrvCVIjym",
        "outputId": "3c9870a9-d8e5-45c8-ac4d-1e486449c7b6"
      },
      "execution_count": 20,
      "outputs": [
        {
          "output_type": "execute_result",
          "data": {
            "text/plain": [
              "1    164\n",
              "0    138\n",
              "Name: target, dtype: int64"
            ]
          },
          "metadata": {},
          "execution_count": 20
        }
      ]
    },
    {
      "cell_type": "markdown",
      "source": [
        "Above age of 30, there is more chance of getting a heart disease"
      ],
      "metadata": {
        "id": "RYmMVW5fKYKQ"
      }
    },
    {
      "cell_type": "code",
      "source": [
        "#cholestrol level\n",
        "df[df['chol']>200].shape"
      ],
      "metadata": {
        "colab": {
          "base_uri": "https://localhost:8080/"
        },
        "id": "Yx7eGrrdIjvq",
        "outputId": "eee8406f-8f7a-4e6a-e0d2-0fd1d5b7e687"
      },
      "execution_count": 22,
      "outputs": [
        {
          "output_type": "execute_result",
          "data": {
            "text/plain": [
              "(252, 14)"
            ]
          },
          "metadata": {},
          "execution_count": 22
        }
      ]
    },
    {
      "cell_type": "markdown",
      "source": [
        "252 people have higher risk of getting heart disease based on higher cholestrol level"
      ],
      "metadata": {
        "id": "k863hsBEK9VH"
      }
    },
    {
      "cell_type": "code",
      "source": [
        "#thallium\n",
        "df[df['thal']==2].shape"
      ],
      "metadata": {
        "colab": {
          "base_uri": "https://localhost:8080/"
        },
        "id": "r5Us9rhMLEWl",
        "outputId": "00cfa5a3-4a04-4674-f219-cb2188e873c4"
      },
      "execution_count": 23,
      "outputs": [
        {
          "output_type": "execute_result",
          "data": {
            "text/plain": [
              "(165, 14)"
            ]
          },
          "metadata": {},
          "execution_count": 23
        }
      ]
    },
    {
      "cell_type": "markdown",
      "source": [
        "165 is Number of people that can be cured as they are having reversible thallium condition"
      ],
      "metadata": {
        "id": "Sb6T50NcLl2P"
      }
    },
    {
      "cell_type": "markdown",
      "source": [
        "*use shift+tab to get function"
      ],
      "metadata": {
        "id": "1G5s6-WlMhWP"
      }
    },
    {
      "cell_type": "markdown",
      "source": [
        "###Check for outliers"
      ],
      "metadata": {
        "id": "7qIhz_AlNyjc"
      }
    },
    {
      "cell_type": "code",
      "source": [
        "sns.boxplot(x='chol',data=df)"
      ],
      "metadata": {
        "colab": {
          "base_uri": "https://localhost:8080/",
          "height": 466
        },
        "id": "bkrYYw2UL0MN",
        "outputId": "54f43007-d80d-434e-9e31-b2a8522d93f6"
      },
      "execution_count": 24,
      "outputs": [
        {
          "output_type": "execute_result",
          "data": {
            "text/plain": [
              "<Axes: xlabel='chol'>"
            ]
          },
          "metadata": {},
          "execution_count": 24
        },
        {
          "output_type": "display_data",
          "data": {
            "text/plain": [
              "<Figure size 640x480 with 1 Axes>"
            ],
            "image/png": "[encoded data removed]"
          },
          "metadata": {}
        }
      ]
    },
    {
      "cell_type": "markdown",
      "source": [
        "No need to remove/treat outliers in case of tree based algorithms"
      ],
      "metadata": {
        "id": "4I4F0-HhNHPi"
      }
    },
    {
      "cell_type": "markdown",
      "source": [
        "###Visualization - distribution,skewness"
      ],
      "metadata": {
        "id": "qGbzB-56N34N"
      }
    },
    {
      "cell_type": "markdown",
      "source": [
        "![434px-Relationship_between_mean_and_median_under_different_skewness.png](data:image/png;base64,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)"
      ],
      "metadata": {
        "id": "EiOFrcFvNrk6"
      }
    },
    {
      "cell_type": "markdown",
      "source": [
        "To find distributions of data we use plots like:\n",
        "- matplotlib - histogram\n",
        "- seaborn - distplot, histogram, kdeplot\n",
        "- statistical test - shapiro wilk test"
      ],
      "metadata": {
        "id": "KZLZetUcN84q"
      }
    },
    {
      "cell_type": "code",
      "source": [
        "df['age'].hist(bins=10)\n",
        "plt.title('Age distribution')"
      ],
      "metadata": {
        "colab": {
          "base_uri": "https://localhost:8080/",
          "height": 469
        },
        "id": "-vywUVt-L0Gn",
        "outputId": "8b7a731d-b175-4f37-bbfd-fbebcf118b5a"
      },
      "execution_count": 26,
      "outputs": [
        {
          "output_type": "execute_result",
          "data": {
            "text/plain": [
              "Text(0.5, 1.0, 'Age distribution')"
            ]
          },
          "metadata": {},
          "execution_count": 26
        },
        {
          "output_type": "display_data",
          "data": {
            "text/plain": [
              "<Figure size 640x480 with 1 Axes>"
            ],
            "image/png": "[encoded data removed]"
          },
          "metadata": {}
        }
      ]
    },
    {
      "cell_type": "markdown",
      "source": [
        "Age is negatively skewed\n",
        "\n",
        "To smoothen the histogram, use distplot"
      ],
      "metadata": {
        "id": "gcvXshEBOepL"
      }
    },
    {
      "cell_type": "code",
      "source": [
        "sns.distplot(df['age'])\n",
        "plt.show()"
      ],
      "metadata": {
        "colab": {
          "base_uri": "https://localhost:8080/",
          "height": 640
        },
        "id": "06cQF0KdIjs8",
        "outputId": "b9818dfb-3e63-419a-cda5-ec6a1d53962e"
      },
      "execution_count": 28,
      "outputs": [
        {
          "output_type": "stream",
          "name": "stderr",
          "text": [
            "<ipython-input-28-19f06fbf7026>:1: UserWarning: \n",
            "\n",
            "`distplot` is a deprecated function and will be removed in seaborn v0.14.0.\n",
            "\n",
            "Please adapt your code to use either `displot` (a figure-level function with\n",
            "similar flexibility) or `histplot` (an axes-level function for histograms).\n",
            "\n",
            "For a guide to updating your code to use the new functions, please see\n",
            "https://gist.github.com/mwaskom/de44147ed2974457ad6372750bbe5751\n",
            "\n",
            "  sns.distplot(df['age'])\n"
          ]
        },
        {
          "output_type": "display_data",
          "data": {
            "text/plain": [
              "<Figure size 640x480 with 1 Axes>"
            ],
            "image/png": "[encoded data removed]"
          },
          "metadata": {}
        }
      ]
    },
    {
      "cell_type": "code",
      "source": [
        "#kernel density estimation\n",
        "sns.kdeplot(df['age'])"
      ],
      "metadata": {
        "colab": {
          "base_uri": "https://localhost:8080/",
          "height": 466
        },
        "id": "MXvlOgbeOwD8",
        "outputId": "c9e04607-a293-4428-b345-27154a6626a2"
      },
      "execution_count": 30,
      "outputs": [
        {
          "output_type": "execute_result",
          "data": {
            "text/plain": [
              "<Axes: xlabel='age', ylabel='Density'>"
            ]
          },
          "metadata": {},
          "execution_count": 30
        },
        {
          "output_type": "display_data",
          "data": {
            "text/plain": [
              "<Figure size 640x480 with 1 Axes>"
            ],
            "image/png": "[encoded data removed]"
          },
          "metadata": {}
        }
      ]
    },
    {
      "cell_type": "code",
      "source": [
        "sns.distplot(df[df['sex']==1]['age'],label='Male')\n",
        "sns.distplot(df[df['sex']==0]['age'],label='Female')\n",
        "plt.title('Density plot of age by sex')\n",
        "\n",
        "plt.legend()"
      ],
      "metadata": {
        "colab": {
          "base_uri": "https://localhost:8080/",
          "height": 871
        },
        "id": "cUu0zoUcO9UR",
        "outputId": "b5d3b5e2-02b3-4d11-d8e8-4e80a4d9f78f"
      },
      "execution_count": 32,
      "outputs": [
        {
          "output_type": "stream",
          "name": "stderr",
          "text": [
            "<ipython-input-32-6063486248ee>:1: UserWarning: \n",
            "\n",
            "`distplot` is a deprecated function and will be removed in seaborn v0.14.0.\n",
            "\n",
            "Please adapt your code to use either `displot` (a figure-level function with\n",
            "similar flexibility) or `histplot` (an axes-level function for histograms).\n",
            "\n",
            "For a guide to updating your code to use the new functions, please see\n",
            "https://gist.github.com/mwaskom/de44147ed2974457ad6372750bbe5751\n",
            "\n",
            "  sns.distplot(df[df['sex']==1]['age'],label='Male')\n",
            "<ipython-input-32-6063486248ee>:2: UserWarning: \n",
            "\n",
            "`distplot` is a deprecated function and will be removed in seaborn v0.14.0.\n",
            "\n",
            "Please adapt your code to use either `displot` (a figure-level function with\n",
            "similar flexibility) or `histplot` (an axes-level function for histograms).\n",
            "\n",
            "For a guide to updating your code to use the new functions, please see\n",
            "https://gist.github.com/mwaskom/de44147ed2974457ad6372750bbe5751\n",
            "\n",
            "  sns.distplot(df[df['sex']==0]['age'],label='Female')\n"
          ]
        },
        {
          "output_type": "execute_result",
          "data": {
            "text/plain": [
              "<matplotlib.legend.Legend at 0x79263c3e77c0>"
            ]
          },
          "metadata": {},
          "execution_count": 32
        },
        {
          "output_type": "display_data",
          "data": {
            "text/plain": [
              "<Figure size 640x480 with 1 Axes>"
            ],
            "image/png": "[encoded data removed]"
          },
          "metadata": {}
        }
      ]
    },
    {
      "cell_type": "code",
      "source": [
        "#checking for other column\n",
        "df['trestbps'].hist()"
      ],
      "metadata": {
        "colab": {
          "base_uri": "https://localhost:8080/",
          "height": 447
        },
        "id": "neGErpsVPmZT",
        "outputId": "721b247a-6964-4e61-8620-af95930894fa"
      },
      "execution_count": 33,
      "outputs": [
        {
          "output_type": "execute_result",
          "data": {
            "text/plain": [
              "<Axes: >"
            ]
          },
          "metadata": {},
          "execution_count": 33
        },
        {
          "output_type": "display_data",
          "data": {
            "text/plain": [
              "<Figure size 640x480 with 1 Axes>"
            ],
            "image/png": "[encoded data removed]"
          },
          "metadata": {}
        }
      ]
    },
    {
      "cell_type": "code",
      "source": [
        "sns.distplot(df['trestbps'])\n",
        "plt.show()"
      ],
      "metadata": {
        "colab": {
          "base_uri": "https://localhost:8080/",
          "height": 640
        },
        "id": "W1IGuCrAPvTE",
        "outputId": "b4957b42-8d43-4722-c553-19fb54ca2afc"
      },
      "execution_count": 34,
      "outputs": [
        {
          "output_type": "stream",
          "name": "stderr",
          "text": [
            "<ipython-input-34-fd87906d7774>:1: UserWarning: \n",
            "\n",
            "`distplot` is a deprecated function and will be removed in seaborn v0.14.0.\n",
            "\n",
            "Please adapt your code to use either `displot` (a figure-level function with\n",
            "similar flexibility) or `histplot` (an axes-level function for histograms).\n",
            "\n",
            "For a guide to updating your code to use the new functions, please see\n",
            "https://gist.github.com/mwaskom/de44147ed2974457ad6372750bbe5751\n",
            "\n",
            "  sns.distplot(df['trestbps'])\n"
          ]
        },
        {
          "output_type": "display_data",
          "data": {
            "text/plain": [
              "<Figure size 640x480 with 1 Axes>"
            ],
            "image/png": "[encoded data removed]"
          },
          "metadata": {}
        }
      ]
    },
    {
      "cell_type": "code",
      "source": [
        "#countplot\n",
        "sns.countplot(x=df['sex'],hue='target',data=df)"
      ],
      "metadata": {
        "colab": {
          "base_uri": "https://localhost:8080/",
          "height": 466
        },
        "id": "rtPIYKbkP__c",
        "outputId": "83932f4d-9211-4ee9-a728-2ea063819003"
      },
      "execution_count": 35,
      "outputs": [
        {
          "output_type": "execute_result",
          "data": {
            "text/plain": [
              "<Axes: xlabel='sex', ylabel='count'>"
            ]
          },
          "metadata": {},
          "execution_count": 35
        },
        {
          "output_type": "display_data",
          "data": {
            "text/plain": [
              "<Figure size 640x480 with 1 Axes>"
            ],
            "image/png": "[encoded data removed]"
          },
          "metadata": {}
        }
      ]
    },
    {
      "cell_type": "markdown",
      "source": [
        "In females, more females are prone to have heart disease.\n",
        "\n",
        "In general males are more prone to having heart disease than females"
      ],
      "metadata": {
        "id": "rXPI0x5yQbnN"
      }
    },
    {
      "cell_type": "code",
      "source": [
        "sns.countplot(x=df['cp'],hue='target',data=df)"
      ],
      "metadata": {
        "colab": {
          "base_uri": "https://localhost:8080/",
          "height": 466
        },
        "id": "Y-c9yFT8Qz6b",
        "outputId": "083b93da-b4dd-41fa-e8b8-3b810d13738d"
      },
      "execution_count": 36,
      "outputs": [
        {
          "output_type": "execute_result",
          "data": {
            "text/plain": [
              "<Axes: xlabel='cp', ylabel='count'>"
            ]
          },
          "metadata": {},
          "execution_count": 36
        },
        {
          "output_type": "display_data",
          "data": {
            "text/plain": [
              "<Figure size 640x480 with 1 Axes>"
            ],
            "image/png": "[encoded data removed]"
          },
          "metadata": {}
        }
      ]
    },
    {
      "cell_type": "markdown",
      "source": [
        " (0 = typical angina, 1 = atypical angina, 2 = non-anginal pain, 3 = asymptomatic)\n",
        "\n",
        " In case of typical angina, less people have heart disease than those who have it"
      ],
      "metadata": {
        "id": "jGIxEwiCQ613"
      }
    },
    {
      "cell_type": "code",
      "source": [
        "sns.histplot(x=df['cp'],hue='target',data=df)"
      ],
      "metadata": {
        "colab": {
          "base_uri": "https://localhost:8080/",
          "height": 466
        },
        "id": "muIh3USMScbx",
        "outputId": "f1657784-888a-46b3-a4fd-7995011d8859"
      },
      "execution_count": 37,
      "outputs": [
        {
          "output_type": "execute_result",
          "data": {
            "text/plain": [
              "<Axes: xlabel='cp', ylabel='Count'>"
            ]
          },
          "metadata": {},
          "execution_count": 37
        },
        {
          "output_type": "display_data",
          "data": {
            "text/plain": [
              "<Figure size 640x480 with 1 Axes>"
            ],
            "image/png": "[encoded data removed]"
          },
          "metadata": {}
        }
      ]
    },
    {
      "cell_type": "markdown",
      "source": [
        "Histplot is difficult to understand than countplot"
      ],
      "metadata": {
        "id": "oz1aeQ6eTTKp"
      }
    },
    {
      "cell_type": "markdown",
      "source": [
        "##Supervised model building\n",
        "- Classification model\n",
        "- Divide data into dependant and independant column\n",
        "- Divide data into train and test\n",
        "- Build and create the model\n",
        "- Train the model\n",
        "- Test the model: predict function\n",
        "- Check the models performance(classification): accuracy, confusion matrix, classification report\n",
        "- If its a regression problem then: r2 score,rmse,mse,mae"
      ],
      "metadata": {
        "id": "2y5vYmgaCZTA"
      }
    },
    {
      "cell_type": "code",
      "source": [
        "x=df.iloc[:,:-1]    #independant column\n",
        "y=df['target']      #dependant column"
      ],
      "metadata": {
        "id": "nerAoK8V-1G_"
      },
      "execution_count": 38,
      "outputs": []
    },
    {
      "cell_type": "code",
      "source": [
        "x.head()"
      ],
      "metadata": {
        "colab": {
          "base_uri": "https://localhost:8080/",
          "height": 206
        },
        "id": "5-1lS1D4Tjlw",
        "outputId": "514bffda-ac57-43d8-be2f-61757c4a38e4"
      },
      "execution_count": 39,
      "outputs": [
        {
          "output_type": "execute_result",
          "data": {
            "text/plain": [
              "   age  sex  cp  trestbps  chol  fbs  restecg  thalach  exang  oldpeak  slope  \\\n",
              "0   63    1   3       145   233    1        0      150      0      2.3      0   \n",
              "1   37    1   2       130   250    0        1      187      0      3.5      0   \n",
              "2   41    0   1       130   204    0        0      172      0      1.4      2   \n",
              "3   56    1   1       120   236    0        1      178      0      0.8      2   \n",
              "4   57    0   0       120   354    0        1      163      1      0.6      2   \n",
              "\n",
              "   ca  thal  \n",
              "0   0     1  \n",
              "1   0     2  \n",
              "2   0     2  \n",
              "3   0     2  \n",
              "4   0     2  "
            ],
            "text/html": [
              "\n",
              "  <div id=\"df-b21e22da-2104-48f5-a577-44feb3d20568\" class=\"colab-df-container\">\n",
              "    <div>\n",
              "<style scoped>\n",
              "    .dataframe tbody tr th:only-of-type {\n",
              "        vertical-align: middle;\n",
              "    }\n",
              "\n",
              "    .dataframe tbody tr th {\n",
              "        vertical-align: top;\n",
              "    }\n",
              "\n",
              "    .dataframe thead th {\n",
              "        text-align: right;\n",
              "    }\n",
              "</style>\n",
              "<table border=\"1\" class=\"dataframe\">\n",
              "  <thead>\n",
              "    <tr style=\"text-align: right;\">\n",
              "      <th></th>\n",
              "      <th>age</th>\n",
              "      <th>sex</th>\n",
              "      <th>cp</th>\n",
              "      <th>trestbps</th>\n",
              "      <th>chol</th>\n",
              "      <th>fbs</th>\n",
              "      <th>restecg</th>\n",
              "      <th>thalach</th>\n",
              "      <th>exang</th>\n",
              "      <th>oldpeak</th>\n",
              "      <th>slope</th>\n",
              "      <th>ca</th>\n",
              "      <th>thal</th>\n",
              "    </tr>\n",
              "  </thead>\n",
              "  <tbody>\n",
              "    <tr>\n",
              "      <th>0</th>\n",
              "      <td>63</td>\n",
              "      <td>1</td>\n",
              "      <td>3</td>\n",
              "      <td>145</td>\n",
              "      <td>233</td>\n",
              "      <td>1</td>\n",
              "      <td>0</td>\n",
              "      <td>150</td>\n",
              "      <td>0</td>\n",
              "      <td>2.3</td>\n",
              "      <td>0</td>\n",
              "      <td>0</td>\n",
              "      <td>1</td>\n",
              "    </tr>\n",
              "    <tr>\n",
              "      <th>1</th>\n",
              "      <td>37</td>\n",
              "      <td>1</td>\n",
              "      <td>2</td>\n",
              "      <td>130</td>\n",
              "      <td>250</td>\n",
              "      <td>0</td>\n",
              "      <td>1</td>\n",
              "      <td>187</td>\n",
              "      <td>0</td>\n",
              "      <td>3.5</td>\n",
              "      <td>0</td>\n",
              "      <td>0</td>\n",
              "      <td>2</td>\n",
              "    </tr>\n",
              "    <tr>\n",
              "      <th>2</th>\n",
              "      <td>41</td>\n",
              "      <td>0</td>\n",
              "      <td>1</td>\n",
              "      <td>130</td>\n",
              "      <td>204</td>\n",
              "      <td>0</td>\n",
              "      <td>0</td>\n",
              "      <td>172</td>\n",
              "      <td>0</td>\n",
              "      <td>1.4</td>\n",
              "      <td>2</td>\n",
              "      <td>0</td>\n",
              "      <td>2</td>\n",
              "    </tr>\n",
              "    <tr>\n",
              "      <th>3</th>\n",
              "      <td>56</td>\n",
              "      <td>1</td>\n",
              "      <td>1</td>\n",
              "      <td>120</td>\n",
              "      <td>236</td>\n",
              "      <td>0</td>\n",
              "      <td>1</td>\n",
              "      <td>178</td>\n",
              "      <td>0</td>\n",
              "      <td>0.8</td>\n",
              "      <td>2</td>\n",
              "      <td>0</td>\n",
              "      <td>2</td>\n",
              "    </tr>\n",
              "    <tr>\n",
              "      <th>4</th>\n",
              "      <td>57</td>\n",
              "      <td>0</td>\n",
              "      <td>0</td>\n",
              "      <td>120</td>\n",
              "      <td>354</td>\n",
              "      <td>0</td>\n",
              "      <td>1</td>\n",
              "      <td>163</td>\n",
              "      <td>1</td>\n",
              "      <td>0.6</td>\n",
              "      <td>2</td>\n",
              "      <td>0</td>\n",
              "      <td>2</td>\n",
              "    </tr>\n",
              "  </tbody>\n",
              "</table>\n",
              "</div>\n",
              "    <div class=\"colab-df-buttons\">\n",
              "\n",
              "  <div class=\"colab-df-container\">\n",
              "    <button class=\"colab-df-convert\" onclick=\"convertToInteractive('df-b21e22da-2104-48f5-a577-44feb3d20568')\"\n",
              "            title=\"Convert this dataframe to an interactive table.\"\n",
              "            style=\"display:none;\">\n",
              "\n",
              "  <svg xmlns=\"http://www.w3.org/2000/svg\" height=\"24px\" viewBox=\"0 -960 960 960\">\n",
              "    <path d=\"M120-120v-720h720v720H120Zm60-500h600v-160H180v160Zm220 220h160v-160H400v160Zm0 220h160v-160H400v160ZM180-400h160v-160H180v160Zm440 0h160v-160H620v160ZM180-180h160v-160H180v160Zm440 0h160v-160H620v160Z\"/>\n",
              "  </svg>\n",
              "    </button>\n",
              "\n",
              "  <style>\n",
              "    .colab-df-container {\n",
              "      display:flex;\n",
              "      gap: 12px;\n",
              "    }\n",
              "\n",
              "    .colab-df-convert {\n",
              "      background-color: #E8F0FE;\n",
              "      border: none;\n",
              "      border-radius: 50%;\n",
              "      cursor: pointer;\n",
              "      display: none;\n",
              "      fill: #1967D2;\n",
              "      height: 32px;\n",
              "      padding: 0 0 0 0;\n",
              "      width: 32px;\n",
              "    }\n",
              "\n",
              "    .colab-df-convert:hover {\n",
              "      background-color: #E2EBFA;\n",
              "      box-shadow: 0px 1px 2px rgba(60, 64, 67, 0.3), 0px 1px 3px 1px rgba(60, 64, 67, 0.15);\n",
              "      fill: #174EA6;\n",
              "    }\n",
              "\n",
              "    .colab-df-buttons div {\n",
              "      margin-bottom: 4px;\n",
              "    }\n",
              "\n",
              "    [theme=dark] .colab-df-convert {\n",
              "      background-color: #3B4455;\n",
              "      fill: #D2E3FC;\n",
              "    }\n",
              "\n",
              "    [theme=dark] .colab-df-convert:hover {\n",
              "      background-color: #434B5C;\n",
              "      box-shadow: 0px 1px 3px 1px rgba(0, 0, 0, 0.15);\n",
              "      filter: drop-shadow(0px 1px 2px rgba(0, 0, 0, 0.3));\n",
              "      fill: #FFFFFF;\n",
              "    }\n",
              "  </style>\n",
              "\n",
              "    <script>\n",
              "      const buttonEl =\n",
              "        document.querySelector('#df-b21e22da-2104-48f5-a577-44feb3d20568 button.colab-df-convert');\n",
              "      buttonEl.style.display =\n",
              "        google.colab.kernel.accessAllowed ? 'block' : 'none';\n",
              "\n",
              "      async function convertToInteractive(key) {\n",
              "        const element = document.querySelector('#df-b21e22da-2104-48f5-a577-44feb3d20568');\n",
              "        const dataTable =\n",
              "          await google.colab.kernel.invokeFunction('convertToInteractive',\n",
              "                                                    [key], {});\n",
              "        if (!dataTable) return;\n",
              "\n",
              "        const docLinkHtml = 'Like what you see? Visit the ' +\n",
              "          '<a target=\"_blank\" href=https://colab.research.google.com/notebooks/data_table.ipynb>data table notebook</a>'\n",
              "          + ' to learn more about interactive tables.';\n",
              "        element.innerHTML = '';\n",
              "        dataTable['output_type'] = 'display_data';\n",
              "        await google.colab.output.renderOutput(dataTable, element);\n",
              "        const docLink = document.createElement('div');\n",
              "        docLink.innerHTML = docLinkHtml;\n",
              "        element.appendChild(docLink);\n",
              "      }\n",
              "    </script>\n",
              "  </div>\n",
              "\n",
              "\n",
              "<div id=\"df-e9f1d464-3f97-4329-8bb5-fe8bf2beb8ee\">\n",
              "  <button class=\"colab-df-quickchart\" onclick=\"quickchart('df-e9f1d464-3f97-4329-8bb5-fe8bf2beb8ee')\"\n",
              "            title=\"Suggest charts.\"\n",
              "            style=\"display:none;\">\n",
              "\n",
              "<svg xmlns=\"http://www.w3.org/2000/svg\" height=\"24px\"viewBox=\"0 0 24 24\"\n",
              "     width=\"24px\">\n",
              "    <g>\n",
              "        <path d=\"M19 3H5c-1.1 0-2 .9-2 2v14c0 1.1.9 2 2 2h14c1.1 0 2-.9 2-2V5c0-1.1-.9-2-2-2zM9 17H7v-7h2v7zm4 0h-2V7h2v10zm4 0h-2v-4h2v4z\"/>\n",
              "    </g>\n",
              "</svg>\n",
              "  </button>\n",
              "\n",
              "<style>\n",
              "  .colab-df-quickchart {\n",
              "      --bg-color: #E8F0FE;\n",
              "      --fill-color: #1967D2;\n",
              "      --hover-bg-color: #E2EBFA;\n",
              "      --hover-fill-color: #174EA6;\n",
              "      --disabled-fill-color: #AAA;\n",
              "      --disabled-bg-color: #DDD;\n",
              "  }\n",
              "\n",
              "  [theme=dark] .colab-df-quickchart {\n",
              "      --bg-color: #3B4455;\n",
              "      --fill-color: #D2E3FC;\n",
              "      --hover-bg-color: #434B5C;\n",
              "      --hover-fill-color: #FFFFFF;\n",
              "      --disabled-bg-color: #3B4455;\n",
              "      --disabled-fill-color: #666;\n",
              "  }\n",
              "\n",
              "  .colab-df-quickchart {\n",
              "    background-color: var(--bg-color);\n",
              "    border: none;\n",
              "    border-radius: 50%;\n",
              "    cursor: pointer;\n",
              "    display: none;\n",
              "    fill: var(--fill-color);\n",
              "    height: 32px;\n",
              "    padding: 0;\n",
              "    width: 32px;\n",
              "  }\n",
              "\n",
              "  .colab-df-quickchart:hover {\n",
              "    background-color: var(--hover-bg-color);\n",
              "    box-shadow: 0 1px 2px rgba(60, 64, 67, 0.3), 0 1px 3px 1px rgba(60, 64, 67, 0.15);\n",
              "    fill: var(--button-hover-fill-color);\n",
              "  }\n",
              "\n",
              "  .colab-df-quickchart-complete:disabled,\n",
              "  .colab-df-quickchart-complete:disabled:hover {\n",
              "    background-color: var(--disabled-bg-color);\n",
              "    fill: var(--disabled-fill-color);\n",
              "    box-shadow: none;\n",
              "  }\n",
              "\n",
              "  .colab-df-spinner {\n",
              "    border: 2px solid var(--fill-color);\n",
              "    border-color: transparent;\n",
              "    border-bottom-color: var(--fill-color);\n",
              "    animation:\n",
              "      spin 1s steps(1) infinite;\n",
              "  }\n",
              "\n",
              "  @keyframes spin {\n",
              "    0% {\n",
              "      border-color: transparent;\n",
              "      border-bottom-color: var(--fill-color);\n",
              "      border-left-color: var(--fill-color);\n",
              "    }\n",
              "    20% {\n",
              "      border-color: transparent;\n",
              "      border-left-color: var(--fill-color);\n",
              "      border-top-color: var(--fill-color);\n",
              "    }\n",
              "    30% {\n",
              "      border-color: transparent;\n",
              "      border-left-color: var(--fill-color);\n",
              "      border-top-color: var(--fill-color);\n",
              "      border-right-color: var(--fill-color);\n",
              "    }\n",
              "    40% {\n",
              "      border-color: transparent;\n",
              "      border-right-color: var(--fill-color);\n",
              "      border-top-color: var(--fill-color);\n",
              "    }\n",
              "    60% {\n",
              "      border-color: transparent;\n",
              "      border-right-color: var(--fill-color);\n",
              "    }\n",
              "    80% {\n",
              "      border-color: transparent;\n",
              "      border-right-color: var(--fill-color);\n",
              "      border-bottom-color: var(--fill-color);\n",
              "    }\n",
              "    90% {\n",
              "      border-color: transparent;\n",
              "      border-bottom-color: var(--fill-color);\n",
              "    }\n",
              "  }\n",
              "</style>\n",
              "\n",
              "  <script>\n",
              "    async function quickchart(key) {\n",
              "      const quickchartButtonEl =\n",
              "        document.querySelector('#' + key + ' button');\n",
              "      quickchartButtonEl.disabled = true;  // To prevent multiple clicks.\n",
              "      quickchartButtonEl.classList.add('colab-df-spinner');\n",
              "      try {\n",
              "        const charts = await google.colab.kernel.invokeFunction(\n",
              "            'suggestCharts', [key], {});\n",
              "      } catch (error) {\n",
              "        console.error('Error during call to suggestCharts:', error);\n",
              "      }\n",
              "      quickchartButtonEl.classList.remove('colab-df-spinner');\n",
              "      quickchartButtonEl.classList.add('colab-df-quickchart-complete');\n",
              "    }\n",
              "    (() => {\n",
              "      let quickchartButtonEl =\n",
              "        document.querySelector('#df-e9f1d464-3f97-4329-8bb5-fe8bf2beb8ee button');\n",
              "      quickchartButtonEl.style.display =\n",
              "        google.colab.kernel.accessAllowed ? 'block' : 'none';\n",
              "    })();\n",
              "  </script>\n",
              "</div>\n",
              "    </div>\n",
              "  </div>\n"
            ]
          },
          "metadata": {},
          "execution_count": 39
        }
      ]
    },
    {
      "cell_type": "code",
      "source": [
        "y.head()"
      ],
      "metadata": {
        "colab": {
          "base_uri": "https://localhost:8080/"
        },
        "id": "mkQ8L5ydTmKM",
        "outputId": "475ebff1-9c9a-4feb-d838-9bdf1c6b902d"
      },
      "execution_count": 40,
      "outputs": [
        {
          "output_type": "execute_result",
          "data": {
            "text/plain": [
              "0    1\n",
              "1    1\n",
              "2    1\n",
              "3    1\n",
              "4    1\n",
              "Name: target, dtype: int64"
            ]
          },
          "metadata": {},
          "execution_count": 40
        }
      ]
    },
    {
      "cell_type": "code",
      "execution_count": 66,
      "metadata": {
        "id": "mOVFOiV3IjAz",
        "colab": {
          "base_uri": "https://localhost:8080/"
        },
        "outputId": "28582a30-5631-4c0f-c268-e3b3d2ce3a97"
      },
      "outputs": [
        {
          "output_type": "stream",
          "name": "stdout",
          "text": [
            "(211, 13)\n",
            "(91, 13)\n"
          ]
        }
      ],
      "source": [
        "from sklearn.model_selection import train_test_split\n",
        "from sklearn import tree\n",
        "from sklearn.metrics import accuracy_score,confusion_matrix,classification_report\n",
        "x_train,x_test,y_train,y_test=train_test_split(x,y,test_size=0.3,random_state=5)\n",
        "print(x_train.shape)\n",
        "print(x_test.shape)"
      ]
    },
    {
      "cell_type": "code",
      "source": [
        "clf=tree.DecisionTreeClassifier()\n",
        "clf.fit(x_train,y_train)"
      ],
      "metadata": {
        "id": "WJuFj_AiIuu5",
        "colab": {
          "base_uri": "https://localhost:8080/",
          "height": 74
        },
        "outputId": "040ec96d-683d-4def-ccdb-b3e8ea4eb24e"
      },
      "execution_count": 67,
      "outputs": [
        {
          "output_type": "execute_result",
          "data": {
            "text/plain": [
              "DecisionTreeClassifier()"
            ],
            "text/html": [
              "<style>#sk-container-id-2 {color: black;background-color: white;}#sk-container-id-2 pre{padding: 0;}#sk-container-id-2 div.sk-toggleable {background-color: white;}#sk-container-id-2 label.sk-toggleable__label {cursor: pointer;display: block;width: 100%;margin-bottom: 0;padding: 0.3em;box-sizing: border-box;text-align: center;}#sk-container-id-2 label.sk-toggleable__label-arrow:before {content: \"▸\";float: left;margin-right: 0.25em;color: #696969;}#sk-container-id-2 label.sk-toggleable__label-arrow:hover:before {color: black;}#sk-container-id-2 div.sk-estimator:hover label.sk-toggleable__label-arrow:before {color: black;}#sk-container-id-2 div.sk-toggleable__content {max-height: 0;max-width: 0;overflow: hidden;text-align: left;background-color: #f0f8ff;}#sk-container-id-2 div.sk-toggleable__content pre {margin: 0.2em;color: black;border-radius: 0.25em;background-color: #f0f8ff;}#sk-container-id-2 input.sk-toggleable__control:checked~div.sk-toggleable__content {max-height: 200px;max-width: 100%;overflow: auto;}#sk-container-id-2 input.sk-toggleable__control:checked~label.sk-toggleable__label-arrow:before {content: \"▾\";}#sk-container-id-2 div.sk-estimator input.sk-toggleable__control:checked~label.sk-toggleable__label {background-color: #d4ebff;}#sk-container-id-2 div.sk-label input.sk-toggleable__control:checked~label.sk-toggleable__label {background-color: #d4ebff;}#sk-container-id-2 input.sk-hidden--visually {border: 0;clip: rect(1px 1px 1px 1px);clip: rect(1px, 1px, 1px, 1px);height: 1px;margin: -1px;overflow: hidden;padding: 0;position: absolute;width: 1px;}#sk-container-id-2 div.sk-estimator {font-family: monospace;background-color: #f0f8ff;border: 1px dotted black;border-radius: 0.25em;box-sizing: border-box;margin-bottom: 0.5em;}#sk-container-id-2 div.sk-estimator:hover {background-color: #d4ebff;}#sk-container-id-2 div.sk-parallel-item::after {content: \"\";width: 100%;border-bottom: 1px solid gray;flex-grow: 1;}#sk-container-id-2 div.sk-label:hover label.sk-toggleable__label {background-color: #d4ebff;}#sk-container-id-2 div.sk-serial::before {content: \"\";position: absolute;border-left: 1px solid gray;box-sizing: border-box;top: 0;bottom: 0;left: 50%;z-index: 0;}#sk-container-id-2 div.sk-serial {display: flex;flex-direction: column;align-items: center;background-color: white;padding-right: 0.2em;padding-left: 0.2em;position: relative;}#sk-container-id-2 div.sk-item {position: relative;z-index: 1;}#sk-container-id-2 div.sk-parallel {display: flex;align-items: stretch;justify-content: center;background-color: white;position: relative;}#sk-container-id-2 div.sk-item::before, #sk-container-id-2 div.sk-parallel-item::before {content: \"\";position: absolute;border-left: 1px solid gray;box-sizing: border-box;top: 0;bottom: 0;left: 50%;z-index: -1;}#sk-container-id-2 div.sk-parallel-item {display: flex;flex-direction: column;z-index: 1;position: relative;background-color: white;}#sk-container-id-2 div.sk-parallel-item:first-child::after {align-self: flex-end;width: 50%;}#sk-container-id-2 div.sk-parallel-item:last-child::after {align-self: flex-start;width: 50%;}#sk-container-id-2 div.sk-parallel-item:only-child::after {width: 0;}#sk-container-id-2 div.sk-dashed-wrapped {border: 1px dashed gray;margin: 0 0.4em 0.5em 0.4em;box-sizing: border-box;padding-bottom: 0.4em;background-color: white;}#sk-container-id-2 div.sk-label label {font-family: monospace;font-weight: bold;display: inline-block;line-height: 1.2em;}#sk-container-id-2 div.sk-label-container {text-align: center;}#sk-container-id-2 div.sk-container {/* jupyter's `normalize.less` sets `[hidden] { display: none; }` but bootstrap.min.css set `[hidden] { display: none !important; }` so we also need the `!important` here to be able to override the default hidden behavior on the sphinx rendered scikit-learn.org. See: https://github.com/scikit-learn/scikit-learn/issues/21755 */display: inline-block !important;position: relative;}#sk-container-id-2 div.sk-text-repr-fallback {display: none;}</style><div id=\"sk-container-id-2\" class=\"sk-top-container\"><div class=\"sk-text-repr-fallback\"><pre>DecisionTreeClassifier()</pre><b>In a Jupyter environment, please rerun this cell to show the HTML representation or trust the notebook. <br />On GitHub, the HTML representation is unable to render, please try loading this page with nbviewer.org.</b></div><div class=\"sk-container\" hidden><div class=\"sk-item\"><div class=\"sk-estimator sk-toggleable\"><input class=\"sk-toggleable__control sk-hidden--visually\" id=\"sk-estimator-id-2\" type=\"checkbox\" checked><label for=\"sk-estimator-id-2\" class=\"sk-toggleable__label sk-toggleable__label-arrow\">DecisionTreeClassifier</label><div class=\"sk-toggleable__content\"><pre>DecisionTreeClassifier()</pre></div></div></div></div></div>"
            ]
          },
          "metadata": {},
          "execution_count": 67
        }
      ]
    },
    {
      "cell_type": "markdown",
      "source": [
        "Here gini impurity criteria is used as observed from summary of decision tree classifier"
      ],
      "metadata": {
        "id": "B5T4-hw-UfyE"
      }
    },
    {
      "cell_type": "code",
      "source": [
        "pred_test=clf.predict(x_test)\n",
        "pred_test"
      ],
      "metadata": {
        "id": "LIbNx6lWJK55",
        "colab": {
          "base_uri": "https://localhost:8080/"
        },
        "outputId": "bcf531f6-4c57-4973-e307-1cb8375629b6"
      },
      "execution_count": 68,
      "outputs": [
        {
          "output_type": "execute_result",
          "data": {
            "text/plain": [
              "array([1, 1, 0, 0, 1, 0, 0, 1, 1, 1, 1, 1, 1, 0, 0, 0, 0, 0, 0, 0, 0, 0,\n",
              "       1, 0, 1, 1, 1, 0, 1, 0, 1, 1, 0, 1, 0, 0, 1, 1, 1, 0, 1, 0, 1, 0,\n",
              "       0, 0, 0, 0, 0, 0, 0, 1, 1, 0, 0, 1, 1, 0, 1, 0, 1, 1, 1, 1, 1, 0,\n",
              "       1, 1, 1, 0, 0, 0, 0, 1, 0, 0, 1, 0, 0, 1, 1, 0, 1, 0, 1, 0, 1, 1,\n",
              "       0, 1, 1])"
            ]
          },
          "metadata": {},
          "execution_count": 68
        }
      ]
    },
    {
      "cell_type": "code",
      "source": [
        "print('Accuracy for test data =',accuracy_score(pred_test,y_test)*100,'%')"
      ],
      "metadata": {
        "id": "kpzb3eWlI4lL",
        "colab": {
          "base_uri": "https://localhost:8080/"
        },
        "outputId": "196e1ee1-d702-44a7-d5e1-e649ef4a9950"
      },
      "execution_count": 69,
      "outputs": [
        {
          "output_type": "stream",
          "name": "stdout",
          "text": [
            "Accuracy for test data = 76.92307692307693 %\n"
          ]
        }
      ]
    },
    {
      "cell_type": "markdown",
      "source": [
        "In case of overfitting, train data gives good accuracy but test data gives less accuracy\n",
        "\n",
        "\n",
        "Underfitting means both train and test have low accuracy"
      ],
      "metadata": {
        "id": "awb4V9eXKWLp"
      }
    },
    {
      "cell_type": "code",
      "source": [
        "pred_train=clf.predict(x_train)\n",
        "pred_train"
      ],
      "metadata": {
        "id": "GZHjUYKlJUIZ",
        "colab": {
          "base_uri": "https://localhost:8080/"
        },
        "outputId": "4e91dad3-650a-42bd-d4a9-ac039e49167f"
      },
      "execution_count": 70,
      "outputs": [
        {
          "output_type": "execute_result",
          "data": {
            "text/plain": [
              "array([1, 1, 1, 1, 1, 1, 0, 0, 0, 1, 0, 1, 0, 0, 1, 0, 0, 1, 1, 0, 1, 0,\n",
              "       1, 1, 0, 1, 1, 1, 1, 1, 0, 1, 0, 0, 0, 0, 0, 0, 0, 0, 0, 1, 0, 1,\n",
              "       0, 0, 1, 0, 1, 1, 1, 0, 0, 0, 1, 0, 0, 1, 0, 1, 1, 1, 0, 1, 1, 0,\n",
              "       1, 1, 1, 0, 0, 1, 0, 1, 1, 1, 1, 1, 0, 0, 1, 1, 0, 0, 1, 0, 0, 0,\n",
              "       1, 1, 0, 1, 0, 0, 0, 1, 0, 1, 0, 1, 1, 1, 1, 1, 1, 0, 1, 1, 1, 0,\n",
              "       1, 1, 1, 1, 1, 1, 0, 0, 1, 0, 1, 0, 0, 0, 0, 1, 0, 0, 1, 0, 0, 0,\n",
              "       1, 1, 0, 0, 1, 0, 0, 1, 1, 0, 0, 0, 1, 1, 0, 0, 1, 1, 0, 1, 1, 1,\n",
              "       1, 0, 1, 1, 1, 0, 1, 0, 1, 1, 1, 1, 1, 0, 0, 0, 1, 1, 0, 1, 1, 0,\n",
              "       0, 0, 0, 1, 0, 1, 1, 1, 0, 1, 1, 0, 1, 1, 1, 1, 1, 0, 0, 1, 1, 1,\n",
              "       1, 0, 1, 0, 1, 1, 0, 0, 1, 1, 1, 0, 0])"
            ]
          },
          "metadata": {},
          "execution_count": 70
        }
      ]
    },
    {
      "cell_type": "code",
      "source": [
        "print('Accuracy for train data =',accuracy_score(pred_train,y_train)*100,'%')"
      ],
      "metadata": {
        "id": "svK5K3SvKrmT",
        "colab": {
          "base_uri": "https://localhost:8080/"
        },
        "outputId": "601b3cbb-3e49-4644-bf3c-a392c1ecac76"
      },
      "execution_count": 71,
      "outputs": [
        {
          "output_type": "stream",
          "name": "stdout",
          "text": [
            "Accuracy for train data = 100.0 %\n"
          ]
        }
      ]
    },
    {
      "cell_type": "markdown",
      "source": [
        "As training data has high accuracy but test data has low accuracy, this means the model has overfitting problem"
      ],
      "metadata": {
        "id": "Nyj5m8K9LO5o"
      }
    },
    {
      "cell_type": "markdown",
      "source": [
        "Value of max_depth plays a huge role in determining the accuracy of decision tree"
      ],
      "metadata": {
        "id": "fqQ1GxwaWO-W"
      }
    },
    {
      "cell_type": "code",
      "source": [
        "c_parameter_name='max_depth'\n",
        "c_parameter_values=[1,2,3,4,5,6,7,8,9,10,11,12,13,14,15]\n",
        "df1=pd.DataFrame(columns=['max_depth','accuracy'])\n",
        "df1"
      ],
      "metadata": {
        "id": "e70Lf3UxLNDY",
        "colab": {
          "base_uri": "https://localhost:8080/",
          "height": 53
        },
        "outputId": "df3b7b2d-dcd6-434b-f959-60fb83b7a74c"
      },
      "execution_count": 72,
      "outputs": [
        {
          "output_type": "execute_result",
          "data": {
            "text/plain": [
              "Empty DataFrame\n",
              "Columns: [max_depth, accuracy]\n",
              "Index: []"
            ],
            "text/html": [
              "\n",
              "  <div id=\"df-38954873-6833-4fad-9494-d10e21c5174b\" class=\"colab-df-container\">\n",
              "    <div>\n",
              "<style scoped>\n",
              "    .dataframe tbody tr th:only-of-type {\n",
              "        vertical-align: middle;\n",
              "    }\n",
              "\n",
              "    .dataframe tbody tr th {\n",
              "        vertical-align: top;\n",
              "    }\n",
              "\n",
              "    .dataframe thead th {\n",
              "        text-align: right;\n",
              "    }\n",
              "</style>\n",
              "<table border=\"1\" class=\"dataframe\">\n",
              "  <thead>\n",
              "    <tr style=\"text-align: right;\">\n",
              "      <th></th>\n",
              "      <th>max_depth</th>\n",
              "      <th>accuracy</th>\n",
              "    </tr>\n",
              "  </thead>\n",
              "  <tbody>\n",
              "  </tbody>\n",
              "</table>\n",
              "</div>\n",
              "    <div class=\"colab-df-buttons\">\n",
              "\n",
              "  <div class=\"colab-df-container\">\n",
              "    <button class=\"colab-df-convert\" onclick=\"convertToInteractive('df-38954873-6833-4fad-9494-d10e21c5174b')\"\n",
              "            title=\"Convert this dataframe to an interactive table.\"\n",
              "            style=\"display:none;\">\n",
              "\n",
              "  <svg xmlns=\"http://www.w3.org/2000/svg\" height=\"24px\" viewBox=\"0 -960 960 960\">\n",
              "    <path d=\"M120-120v-720h720v720H120Zm60-500h600v-160H180v160Zm220 220h160v-160H400v160Zm0 220h160v-160H400v160ZM180-400h160v-160H180v160Zm440 0h160v-160H620v160ZM180-180h160v-160H180v160Zm440 0h160v-160H620v160Z\"/>\n",
              "  </svg>\n",
              "    </button>\n",
              "\n",
              "  <style>\n",
              "    .colab-df-container {\n",
              "      display:flex;\n",
              "      gap: 12px;\n",
              "    }\n",
              "\n",
              "    .colab-df-convert {\n",
              "      background-color: #E8F0FE;\n",
              "      border: none;\n",
              "      border-radius: 50%;\n",
              "      cursor: pointer;\n",
              "      display: none;\n",
              "      fill: #1967D2;\n",
              "      height: 32px;\n",
              "      padding: 0 0 0 0;\n",
              "      width: 32px;\n",
              "    }\n",
              "\n",
              "    .colab-df-convert:hover {\n",
              "      background-color: #E2EBFA;\n",
              "      box-shadow: 0px 1px 2px rgba(60, 64, 67, 0.3), 0px 1px 3px 1px rgba(60, 64, 67, 0.15);\n",
              "      fill: #174EA6;\n",
              "    }\n",
              "\n",
              "    .colab-df-buttons div {\n",
              "      margin-bottom: 4px;\n",
              "    }\n",
              "\n",
              "    [theme=dark] .colab-df-convert {\n",
              "      background-color: #3B4455;\n",
              "      fill: #D2E3FC;\n",
              "    }\n",
              "\n",
              "    [theme=dark] .colab-df-convert:hover {\n",
              "      background-color: #434B5C;\n",
              "      box-shadow: 0px 1px 3px 1px rgba(0, 0, 0, 0.15);\n",
              "      filter: drop-shadow(0px 1px 2px rgba(0, 0, 0, 0.3));\n",
              "      fill: #FFFFFF;\n",
              "    }\n",
              "  </style>\n",
              "\n",
              "    <script>\n",
              "      const buttonEl =\n",
              "        document.querySelector('#df-38954873-6833-4fad-9494-d10e21c5174b button.colab-df-convert');\n",
              "      buttonEl.style.display =\n",
              "        google.colab.kernel.accessAllowed ? 'block' : 'none';\n",
              "\n",
              "      async function convertToInteractive(key) {\n",
              "        const element = document.querySelector('#df-38954873-6833-4fad-9494-d10e21c5174b');\n",
              "        const dataTable =\n",
              "          await google.colab.kernel.invokeFunction('convertToInteractive',\n",
              "                                                    [key], {});\n",
              "        if (!dataTable) return;\n",
              "\n",
              "        const docLinkHtml = 'Like what you see? Visit the ' +\n",
              "          '<a target=\"_blank\" href=https://colab.research.google.com/notebooks/data_table.ipynb>data table notebook</a>'\n",
              "          + ' to learn more about interactive tables.';\n",
              "        element.innerHTML = '';\n",
              "        dataTable['output_type'] = 'display_data';\n",
              "        await google.colab.output.renderOutput(dataTable, element);\n",
              "        const docLink = document.createElement('div');\n",
              "        docLink.innerHTML = docLinkHtml;\n",
              "        element.appendChild(docLink);\n",
              "      }\n",
              "    </script>\n",
              "  </div>\n",
              "\n",
              "    </div>\n",
              "  </div>\n"
            ]
          },
          "metadata": {},
          "execution_count": 72
        }
      ]
    },
    {
      "cell_type": "code",
      "source": [
        "for i in c_parameter_values:\n",
        "    model=tree.DecisionTreeClassifier(max_depth=i)\n",
        "    model.fit(x_train,y_train)\n",
        "    y_pred=model.predict(x_test)\n",
        "    acc_score=accuracy_score(y_test,y_pred)*100\n",
        "    df1=df1.append({'max_depth':i,'accuracy':acc_score},ignore_index=True)\n",
        "\n",
        "df1"
      ],
      "metadata": {
        "id": "CreXazIRLqfx",
        "colab": {
          "base_uri": "https://localhost:8080/",
          "height": 1000
        },
        "outputId": "a4c3556e-1ec2-490e-ff00-93fb0af26a36"
      },
      "execution_count": 73,
      "outputs": [
        {
          "output_type": "stream",
          "name": "stderr",
          "text": [
            "<ipython-input-73-ca82cb80fa4c>:6: FutureWarning: The frame.append method is deprecated and will be removed from pandas in a future version. Use pandas.concat instead.\n",
            "  df1=df1.append({'max_depth':i,'accuracy':acc_score},ignore_index=True)\n",
            "<ipython-input-73-ca82cb80fa4c>:6: FutureWarning: The frame.append method is deprecated and will be removed from pandas in a future version. Use pandas.concat instead.\n",
            "  df1=df1.append({'max_depth':i,'accuracy':acc_score},ignore_index=True)\n",
            "<ipython-input-73-ca82cb80fa4c>:6: FutureWarning: The frame.append method is deprecated and will be removed from pandas in a future version. Use pandas.concat instead.\n",
            "  df1=df1.append({'max_depth':i,'accuracy':acc_score},ignore_index=True)\n",
            "<ipython-input-73-ca82cb80fa4c>:6: FutureWarning: The frame.append method is deprecated and will be removed from pandas in a future version. Use pandas.concat instead.\n",
            "  df1=df1.append({'max_depth':i,'accuracy':acc_score},ignore_index=True)\n",
            "<ipython-input-73-ca82cb80fa4c>:6: FutureWarning: The frame.append method is deprecated and will be removed from pandas in a future version. Use pandas.concat instead.\n",
            "  df1=df1.append({'max_depth':i,'accuracy':acc_score},ignore_index=True)\n",
            "<ipython-input-73-ca82cb80fa4c>:6: FutureWarning: The frame.append method is deprecated and will be removed from pandas in a future version. Use pandas.concat instead.\n",
            "  df1=df1.append({'max_depth':i,'accuracy':acc_score},ignore_index=True)\n",
            "<ipython-input-73-ca82cb80fa4c>:6: FutureWarning: The frame.append method is deprecated and will be removed from pandas in a future version. Use pandas.concat instead.\n",
            "  df1=df1.append({'max_depth':i,'accuracy':acc_score},ignore_index=True)\n",
            "<ipython-input-73-ca82cb80fa4c>:6: FutureWarning: The frame.append method is deprecated and will be removed from pandas in a future version. Use pandas.concat instead.\n",
            "  df1=df1.append({'max_depth':i,'accuracy':acc_score},ignore_index=True)\n",
            "<ipython-input-73-ca82cb80fa4c>:6: FutureWarning: The frame.append method is deprecated and will be removed from pandas in a future version. Use pandas.concat instead.\n",
            "  df1=df1.append({'max_depth':i,'accuracy':acc_score},ignore_index=True)\n",
            "<ipython-input-73-ca82cb80fa4c>:6: FutureWarning: The frame.append method is deprecated and will be removed from pandas in a future version. Use pandas.concat instead.\n",
            "  df1=df1.append({'max_depth':i,'accuracy':acc_score},ignore_index=True)\n",
            "<ipython-input-73-ca82cb80fa4c>:6: FutureWarning: The frame.append method is deprecated and will be removed from pandas in a future version. Use pandas.concat instead.\n",
            "  df1=df1.append({'max_depth':i,'accuracy':acc_score},ignore_index=True)\n",
            "<ipython-input-73-ca82cb80fa4c>:6: FutureWarning: The frame.append method is deprecated and will be removed from pandas in a future version. Use pandas.concat instead.\n",
            "  df1=df1.append({'max_depth':i,'accuracy':acc_score},ignore_index=True)\n",
            "<ipython-input-73-ca82cb80fa4c>:6: FutureWarning: The frame.append method is deprecated and will be removed from pandas in a future version. Use pandas.concat instead.\n",
            "  df1=df1.append({'max_depth':i,'accuracy':acc_score},ignore_index=True)\n",
            "<ipython-input-73-ca82cb80fa4c>:6: FutureWarning: The frame.append method is deprecated and will be removed from pandas in a future version. Use pandas.concat instead.\n",
            "  df1=df1.append({'max_depth':i,'accuracy':acc_score},ignore_index=True)\n",
            "<ipython-input-73-ca82cb80fa4c>:6: FutureWarning: The frame.append method is deprecated and will be removed from pandas in a future version. Use pandas.concat instead.\n",
            "  df1=df1.append({'max_depth':i,'accuracy':acc_score},ignore_index=True)\n"
          ]
        },
        {
          "output_type": "execute_result",
          "data": {
            "text/plain": [
              "    max_depth   accuracy\n",
              "0         1.0  76.923077\n",
              "1         2.0  78.021978\n",
              "2         3.0  86.813187\n",
              "3         4.0  78.021978\n",
              "4         5.0  76.923077\n",
              "5         6.0  79.120879\n",
              "6         7.0  79.120879\n",
              "7         8.0  78.021978\n",
              "8         9.0  79.120879\n",
              "9        10.0  80.219780\n",
              "10       11.0  78.021978\n",
              "11       12.0  76.923077\n",
              "12       13.0  78.021978\n",
              "13       14.0  75.824176\n",
              "14       15.0  80.219780"
            ],
            "text/html": [
              "\n",
              "  <div id=\"df-4c44e70d-2b70-4a01-81d7-fcc116896c18\" class=\"colab-df-container\">\n",
              "    <div>\n",
              "<style scoped>\n",
              "    .dataframe tbody tr th:only-of-type {\n",
              "        vertical-align: middle;\n",
              "    }\n",
              "\n",
              "    .dataframe tbody tr th {\n",
              "        vertical-align: top;\n",
              "    }\n",
              "\n",
              "    .dataframe thead th {\n",
              "        text-align: right;\n",
              "    }\n",
              "</style>\n",
              "<table border=\"1\" class=\"dataframe\">\n",
              "  <thead>\n",
              "    <tr style=\"text-align: right;\">\n",
              "      <th></th>\n",
              "      <th>max_depth</th>\n",
              "      <th>accuracy</th>\n",
              "    </tr>\n",
              "  </thead>\n",
              "  <tbody>\n",
              "    <tr>\n",
              "      <th>0</th>\n",
              "      <td>1.0</td>\n",
              "      <td>76.923077</td>\n",
              "    </tr>\n",
              "    <tr>\n",
              "      <th>1</th>\n",
              "      <td>2.0</td>\n",
              "      <td>78.021978</td>\n",
              "    </tr>\n",
              "    <tr>\n",
              "      <th>2</th>\n",
              "      <td>3.0</td>\n",
              "      <td>86.813187</td>\n",
              "    </tr>\n",
              "    <tr>\n",
              "      <th>3</th>\n",
              "      <td>4.0</td>\n",
              "      <td>78.021978</td>\n",
              "    </tr>\n",
              "    <tr>\n",
              "      <th>4</th>\n",
              "      <td>5.0</td>\n",
              "      <td>76.923077</td>\n",
              "    </tr>\n",
              "    <tr>\n",
              "      <th>5</th>\n",
              "      <td>6.0</td>\n",
              "      <td>79.120879</td>\n",
              "    </tr>\n",
              "    <tr>\n",
              "      <th>6</th>\n",
              "      <td>7.0</td>\n",
              "      <td>79.120879</td>\n",
              "    </tr>\n",
              "    <tr>\n",
              "      <th>7</th>\n",
              "      <td>8.0</td>\n",
              "      <td>78.021978</td>\n",
              "    </tr>\n",
              "    <tr>\n",
              "      <th>8</th>\n",
              "      <td>9.0</td>\n",
              "      <td>79.120879</td>\n",
              "    </tr>\n",
              "    <tr>\n",
              "      <th>9</th>\n",
              "      <td>10.0</td>\n",
              "      <td>80.219780</td>\n",
              "    </tr>\n",
              "    <tr>\n",
              "      <th>10</th>\n",
              "      <td>11.0</td>\n",
              "      <td>78.021978</td>\n",
              "    </tr>\n",
              "    <tr>\n",
              "      <th>11</th>\n",
              "      <td>12.0</td>\n",
              "      <td>76.923077</td>\n",
              "    </tr>\n",
              "    <tr>\n",
              "      <th>12</th>\n",
              "      <td>13.0</td>\n",
              "      <td>78.021978</td>\n",
              "    </tr>\n",
              "    <tr>\n",
              "      <th>13</th>\n",
              "      <td>14.0</td>\n",
              "      <td>75.824176</td>\n",
              "    </tr>\n",
              "    <tr>\n",
              "      <th>14</th>\n",
              "      <td>15.0</td>\n",
              "      <td>80.219780</td>\n",
              "    </tr>\n",
              "  </tbody>\n",
              "</table>\n",
              "</div>\n",
              "    <div class=\"colab-df-buttons\">\n",
              "\n",
              "  <div class=\"colab-df-container\">\n",
              "    <button class=\"colab-df-convert\" onclick=\"convertToInteractive('df-4c44e70d-2b70-4a01-81d7-fcc116896c18')\"\n",
              "            title=\"Convert this dataframe to an interactive table.\"\n",
              "            style=\"display:none;\">\n",
              "\n",
              "  <svg xmlns=\"http://www.w3.org/2000/svg\" height=\"24px\" viewBox=\"0 -960 960 960\">\n",
              "    <path d=\"M120-120v-720h720v720H120Zm60-500h600v-160H180v160Zm220 220h160v-160H400v160Zm0 220h160v-160H400v160ZM180-400h160v-160H180v160Zm440 0h160v-160H620v160ZM180-180h160v-160H180v160Zm440 0h160v-160H620v160Z\"/>\n",
              "  </svg>\n",
              "    </button>\n",
              "\n",
              "  <style>\n",
              "    .colab-df-container {\n",
              "      display:flex;\n",
              "      gap: 12px;\n",
              "    }\n",
              "\n",
              "    .colab-df-convert {\n",
              "      background-color: #E8F0FE;\n",
              "      border: none;\n",
              "      border-radius: 50%;\n",
              "      cursor: pointer;\n",
              "      display: none;\n",
              "      fill: #1967D2;\n",
              "      height: 32px;\n",
              "      padding: 0 0 0 0;\n",
              "      width: 32px;\n",
              "    }\n",
              "\n",
              "    .colab-df-convert:hover {\n",
              "      background-color: #E2EBFA;\n",
              "      box-shadow: 0px 1px 2px rgba(60, 64, 67, 0.3), 0px 1px 3px 1px rgba(60, 64, 67, 0.15);\n",
              "      fill: #174EA6;\n",
              "    }\n",
              "\n",
              "    .colab-df-buttons div {\n",
              "      margin-bottom: 4px;\n",
              "    }\n",
              "\n",
              "    [theme=dark] .colab-df-convert {\n",
              "      background-color: #3B4455;\n",
              "      fill: #D2E3FC;\n",
              "    }\n",
              "\n",
              "    [theme=dark] .colab-df-convert:hover {\n",
              "      background-color: #434B5C;\n",
              "      box-shadow: 0px 1px 3px 1px rgba(0, 0, 0, 0.15);\n",
              "      filter: drop-shadow(0px 1px 2px rgba(0, 0, 0, 0.3));\n",
              "      fill: #FFFFFF;\n",
              "    }\n",
              "  </style>\n",
              "\n",
              "    <script>\n",
              "      const buttonEl =\n",
              "        document.querySelector('#df-4c44e70d-2b70-4a01-81d7-fcc116896c18 button.colab-df-convert');\n",
              "      buttonEl.style.display =\n",
              "        google.colab.kernel.accessAllowed ? 'block' : 'none';\n",
              "\n",
              "      async function convertToInteractive(key) {\n",
              "        const element = document.querySelector('#df-4c44e70d-2b70-4a01-81d7-fcc116896c18');\n",
              "        const dataTable =\n",
              "          await google.colab.kernel.invokeFunction('convertToInteractive',\n",
              "                                                    [key], {});\n",
              "        if (!dataTable) return;\n",
              "\n",
              "        const docLinkHtml = 'Like what you see? Visit the ' +\n",
              "          '<a target=\"_blank\" href=https://colab.research.google.com/notebooks/data_table.ipynb>data table notebook</a>'\n",
              "          + ' to learn more about interactive tables.';\n",
              "        element.innerHTML = '';\n",
              "        dataTable['output_type'] = 'display_data';\n",
              "        await google.colab.output.renderOutput(dataTable, element);\n",
              "        const docLink = document.createElement('div');\n",
              "        docLink.innerHTML = docLinkHtml;\n",
              "        element.appendChild(docLink);\n",
              "      }\n",
              "    </script>\n",
              "  </div>\n",
              "\n",
              "\n",
              "<div id=\"df-89c24bfe-7ece-4556-a724-76b2b1fc10a9\">\n",
              "  <button class=\"colab-df-quickchart\" onclick=\"quickchart('df-89c24bfe-7ece-4556-a724-76b2b1fc10a9')\"\n",
              "            title=\"Suggest charts.\"\n",
              "            style=\"display:none;\">\n",
              "\n",
              "<svg xmlns=\"http://www.w3.org/2000/svg\" height=\"24px\"viewBox=\"0 0 24 24\"\n",
              "     width=\"24px\">\n",
              "    <g>\n",
              "        <path d=\"M19 3H5c-1.1 0-2 .9-2 2v14c0 1.1.9 2 2 2h14c1.1 0 2-.9 2-2V5c0-1.1-.9-2-2-2zM9 17H7v-7h2v7zm4 0h-2V7h2v10zm4 0h-2v-4h2v4z\"/>\n",
              "    </g>\n",
              "</svg>\n",
              "  </button>\n",
              "\n",
              "<style>\n",
              "  .colab-df-quickchart {\n",
              "      --bg-color: #E8F0FE;\n",
              "      --fill-color: #1967D2;\n",
              "      --hover-bg-color: #E2EBFA;\n",
              "      --hover-fill-color: #174EA6;\n",
              "      --disabled-fill-color: #AAA;\n",
              "      --disabled-bg-color: #DDD;\n",
              "  }\n",
              "\n",
              "  [theme=dark] .colab-df-quickchart {\n",
              "      --bg-color: #3B4455;\n",
              "      --fill-color: #D2E3FC;\n",
              "      --hover-bg-color: #434B5C;\n",
              "      --hover-fill-color: #FFFFFF;\n",
              "      --disabled-bg-color: #3B4455;\n",
              "      --disabled-fill-color: #666;\n",
              "  }\n",
              "\n",
              "  .colab-df-quickchart {\n",
              "    background-color: var(--bg-color);\n",
              "    border: none;\n",
              "    border-radius: 50%;\n",
              "    cursor: pointer;\n",
              "    display: none;\n",
              "    fill: var(--fill-color);\n",
              "    height: 32px;\n",
              "    padding: 0;\n",
              "    width: 32px;\n",
              "  }\n",
              "\n",
              "  .colab-df-quickchart:hover {\n",
              "    background-color: var(--hover-bg-color);\n",
              "    box-shadow: 0 1px 2px rgba(60, 64, 67, 0.3), 0 1px 3px 1px rgba(60, 64, 67, 0.15);\n",
              "    fill: var(--button-hover-fill-color);\n",
              "  }\n",
              "\n",
              "  .colab-df-quickchart-complete:disabled,\n",
              "  .colab-df-quickchart-complete:disabled:hover {\n",
              "    background-color: var(--disabled-bg-color);\n",
              "    fill: var(--disabled-fill-color);\n",
              "    box-shadow: none;\n",
              "  }\n",
              "\n",
              "  .colab-df-spinner {\n",
              "    border: 2px solid var(--fill-color);\n",
              "    border-color: transparent;\n",
              "    border-bottom-color: var(--fill-color);\n",
              "    animation:\n",
              "      spin 1s steps(1) infinite;\n",
              "  }\n",
              "\n",
              "  @keyframes spin {\n",
              "    0% {\n",
              "      border-color: transparent;\n",
              "      border-bottom-color: var(--fill-color);\n",
              "      border-left-color: var(--fill-color);\n",
              "    }\n",
              "    20% {\n",
              "      border-color: transparent;\n",
              "      border-left-color: var(--fill-color);\n",
              "      border-top-color: var(--fill-color);\n",
              "    }\n",
              "    30% {\n",
              "      border-color: transparent;\n",
              "      border-left-color: var(--fill-color);\n",
              "      border-top-color: var(--fill-color);\n",
              "      border-right-color: var(--fill-color);\n",
              "    }\n",
              "    40% {\n",
              "      border-color: transparent;\n",
              "      border-right-color: var(--fill-color);\n",
              "      border-top-color: var(--fill-color);\n",
              "    }\n",
              "    60% {\n",
              "      border-color: transparent;\n",
              "      border-right-color: var(--fill-color);\n",
              "    }\n",
              "    80% {\n",
              "      border-color: transparent;\n",
              "      border-right-color: var(--fill-color);\n",
              "      border-bottom-color: var(--fill-color);\n",
              "    }\n",
              "    90% {\n",
              "      border-color: transparent;\n",
              "      border-bottom-color: var(--fill-color);\n",
              "    }\n",
              "  }\n",
              "</style>\n",
              "\n",
              "  <script>\n",
              "    async function quickchart(key) {\n",
              "      const quickchartButtonEl =\n",
              "        document.querySelector('#' + key + ' button');\n",
              "      quickchartButtonEl.disabled = true;  // To prevent multiple clicks.\n",
              "      quickchartButtonEl.classList.add('colab-df-spinner');\n",
              "      try {\n",
              "        const charts = await google.colab.kernel.invokeFunction(\n",
              "            'suggestCharts', [key], {});\n",
              "      } catch (error) {\n",
              "        console.error('Error during call to suggestCharts:', error);\n",
              "      }\n",
              "      quickchartButtonEl.classList.remove('colab-df-spinner');\n",
              "      quickchartButtonEl.classList.add('colab-df-quickchart-complete');\n",
              "    }\n",
              "    (() => {\n",
              "      let quickchartButtonEl =\n",
              "        document.querySelector('#df-89c24bfe-7ece-4556-a724-76b2b1fc10a9 button');\n",
              "      quickchartButtonEl.style.display =\n",
              "        google.colab.kernel.accessAllowed ? 'block' : 'none';\n",
              "    })();\n",
              "  </script>\n",
              "</div>\n",
              "    </div>\n",
              "  </div>\n"
            ]
          },
          "metadata": {},
          "execution_count": 73
        }
      ]
    },
    {
      "cell_type": "markdown",
      "source": [
        "From above it is observed that max depth of 3 is giving the highest accuracy"
      ],
      "metadata": {
        "id": "oHh4Zz52M6FX"
      }
    },
    {
      "cell_type": "code",
      "source": [
        "model=tree.DecisionTreeClassifier(max_depth=3)\n",
        "model.fit(x_train,y_train)\n",
        "y_pred=model.predict(x_test)\n",
        "acc_score=accuracy_score(y_test,y_pred)*100\n",
        "print('Accuracy when max_depth is set to 3 =',acc_score,'% (highest)')"
      ],
      "metadata": {
        "id": "JqWJ0xv_M21i",
        "colab": {
          "base_uri": "https://localhost:8080/"
        },
        "outputId": "4cf9897f-668e-4670-e90d-74eba7fc10ef"
      },
      "execution_count": 77,
      "outputs": [
        {
          "output_type": "stream",
          "name": "stdout",
          "text": [
            "Accuracy when max_depth is set to 3 = 86.81318681318682 % (highest)\n"
          ]
        }
      ]
    },
    {
      "cell_type": "markdown",
      "source": [
        "Thus accuracy of the model was increased by tuning the parameter"
      ],
      "metadata": {
        "id": "ICJ-NioEXziH"
      }
    },
    {
      "cell_type": "code",
      "source": [
        "plt.figure(figsize=(12,5))\n",
        "tree.plot_tree(model,fontsize=7)"
      ],
      "metadata": {
        "id": "ogfwfyCANZOn",
        "colab": {
          "base_uri": "https://localhost:8080/",
          "height": 683
        },
        "outputId": "135eeb22-33e0-4be2-b176-96759cc41824"
      },
      "execution_count": 88,
      "outputs": [
        {
          "output_type": "execute_result",
          "data": {
            "text/plain": [
              "[Text(0.5, 0.875, 'x[2] <= 0.5\\ngini = 0.495\\nsamples = 211\\nvalue = [95, 116]'),\n",
              " Text(0.25, 0.625, 'x[11] <= 0.5\\ngini = 0.409\\nsamples = 101\\nvalue = [72, 29]'),\n",
              " Text(0.125, 0.375, 'x[12] <= 2.5\\ngini = 0.499\\nsamples = 48\\nvalue = [23, 25]'),\n",
              " Text(0.0625, 0.125, 'gini = 0.4\\nsamples = 29\\nvalue = [8, 21]'),\n",
              " Text(0.1875, 0.125, 'gini = 0.332\\nsamples = 19\\nvalue = [15, 4]'),\n",
              " Text(0.375, 0.375, 'x[3] <= 109.0\\ngini = 0.14\\nsamples = 53\\nvalue = [49, 4]'),\n",
              " Text(0.3125, 0.125, 'gini = 0.5\\nsamples = 4\\nvalue = [2, 2]'),\n",
              " Text(0.4375, 0.125, 'gini = 0.078\\nsamples = 49\\nvalue = [47, 2]'),\n",
              " Text(0.75, 0.625, 'x[11] <= 0.5\\ngini = 0.331\\nsamples = 110\\nvalue = [23, 87]'),\n",
              " Text(0.625, 0.375, 'x[9] <= 1.7\\ngini = 0.171\\nsamples = 74\\nvalue = [7, 67]'),\n",
              " Text(0.5625, 0.125, 'gini = 0.091\\nsamples = 63\\nvalue = [3, 60]'),\n",
              " Text(0.6875, 0.125, 'gini = 0.463\\nsamples = 11\\nvalue = [4, 7]'),\n",
              " Text(0.875, 0.375, 'x[9] <= 1.9\\ngini = 0.494\\nsamples = 36\\nvalue = [16, 20]'),\n",
              " Text(0.8125, 0.125, 'gini = 0.458\\nsamples = 31\\nvalue = [11, 20]'),\n",
              " Text(0.9375, 0.125, 'gini = 0.0\\nsamples = 5\\nvalue = [5, 0]')]"
            ]
          },
          "metadata": {},
          "execution_count": 88
        },
        {
          "output_type": "display_data",
          "data": {
            "text/plain": [
              "<Figure size 1200x500 with 1 Axes>"
            ],
            "image/png": "[encoded data removed]"
          },
          "metadata": {}
        }
      ]
    },
    {
      "cell_type": "code",
      "source": [
        "print(classification_report(y_test,y_pred))"
      ],
      "metadata": {
        "id": "8aLxq5iaP4eB",
        "colab": {
          "base_uri": "https://localhost:8080/"
        },
        "outputId": "bf4608f7-7e15-442e-e82a-fa847cc42ed0"
      },
      "execution_count": 83,
      "outputs": [
        {
          "output_type": "stream",
          "name": "stdout",
          "text": [
            "              precision    recall  f1-score   support\n",
            "\n",
            "           0       0.94      0.77      0.85        43\n",
            "           1       0.82      0.96      0.88        48\n",
            "\n",
            "    accuracy                           0.87        91\n",
            "   macro avg       0.88      0.86      0.87        91\n",
            "weighted avg       0.88      0.87      0.87        91\n",
            "\n"
          ]
        }
      ]
    },
    {
      "cell_type": "markdown",
      "source": [
        "recall=tp / (tp + fn)\n",
        "\n",
        "The recall is the measure of our model correctly identifying True Positives.\n",
        "\n",
        "Thus, for all the people who actually have heart disease,\n",
        "recall tells us how many were correctly identified as a heart patient.\n",
        "\n",
        "Layman definition: Of all the actual positive examples out there,\n",
        "how many of them did I correctly predict to be positive?\n",
        "\n",
        "\n",
        "precision of class 0 = TP of class 0/total number of object\n",
        "\n",
        "What is the Precision for our model?\n",
        "\n",
        "Yes, it is 0.73 or, when it predicts that a patient has heart disease, it is correct around 73% of the time.\n",
        "\n",
        "precision of class 1 = TP of class 1/total number of object\n",
        "\n",
        "Layman definition: Of all the positive predictions I made, how many of them are truly positive?\n",
        "\n",
        "\n",
        "\n",
        "macro average = (precision of class 0 + precision of class 1)/2\n",
        "\n",
        "\n",
        "weighted average is precision of all classes merge together\n",
        "\n",
        "weighted average = (TP of class 0 + TP of class 1)/(total number of class 0 + total number of class 1)\n",
        "\n",
        "\n",
        "F1-score is a measure of a model's accuracy on a dataset\n",
        "\n",
        "A good F1 score means that you have low false positives and low false negatives\n",
        "\n",
        "Accuracy is used when the True Positives and True negatives are more important while\n",
        "\n",
        "F1-score is used when the False Negatives and False Positives are crucial.\n",
        "\n",
        "Support is the number of actual occurrences of the class in the specified dataset.\n",
        "\n",
        "\n",
        "Accuracy tells you how many times the ML model was correct overall.\n",
        "\n",
        "Precision is how good the model is at predicting a specific category.\n",
        "\n",
        "Recall tells you how many times the model was able to detect a specific category."
      ],
      "metadata": {
        "id": "xeATKMpGZmhY"
      }
    },
    {
      "cell_type": "markdown",
      "source": [
        "##Advanced ML\n",
        "- Improve accuracy by Hyperparameter tuning"
      ],
      "metadata": {
        "id": "nH5bHaGfDM1u"
      }
    },
    {
      "cell_type": "code",
      "source": [
        "from sklearn.tree import DecisionTreeClassifier\n",
        "from sklearn.model_selection import GridSearchCV\n",
        "from sklearn.datasets import load_iris  # You can replace this with your dataset\n",
        "\n",
        "\n",
        "# Define the Decision Tree classifier\n",
        "clf = DecisionTreeClassifier()"
      ],
      "metadata": {
        "id": "FkRpoOKsavwT"
      },
      "execution_count": 89,
      "outputs": []
    },
    {
      "cell_type": "code",
      "source": [
        "# Define a dictionary of hyperparameters and their possible values to search through\n",
        "param_grid = {\n",
        "  \"max_depth\" : [None,1,2,3,4,5,10],\n",
        "  \"min_samples_split\" : [2,5,10],\n",
        "  \"min_samples_leaf\" : [1,2,4],\n",
        "  \"criterion\" : [\"gini\", \"entropy\" ]\n",
        "}"
      ],
      "metadata": {
        "id": "XaZU2Sf8axHT"
      },
      "execution_count": 90,
      "outputs": []
    },
    {
      "cell_type": "code",
      "source": [
        "# Create a GridSearchCV object\n",
        "grid_search = GridSearchCV(clf, param_grid, cv=5)  # You can adjust the number of cross-validation folds (cv) as needed\n",
        "\n",
        "# Perform the grid search\n",
        "grid_search.fit(x, y)"
      ],
      "metadata": {
        "colab": {
          "base_uri": "https://localhost:8080/",
          "height": 117
        },
        "id": "FJoic-MVa0TU",
        "outputId": "74979282-8d66-4511-a350-d0e3d6512fb6"
      },
      "execution_count": 92,
      "outputs": [
        {
          "output_type": "execute_result",
          "data": {
            "text/plain": [
              "GridSearchCV(cv=5, estimator=DecisionTreeClassifier(),\n",
              "             param_grid={'criterion': ['gini', 'entropy'],\n",
              "                         'max_depth': [None, 1, 2, 3, 4, 5, 10],\n",
              "                         'min_samples_leaf': [1, 2, 4],\n",
              "                         'min_samples_split': [2, 5, 10]})"
            ],
            "text/html": [
              "<style>#sk-container-id-3 {color: black;background-color: white;}#sk-container-id-3 pre{padding: 0;}#sk-container-id-3 div.sk-toggleable {background-color: white;}#sk-container-id-3 label.sk-toggleable__label {cursor: pointer;display: block;width: 100%;margin-bottom: 0;padding: 0.3em;box-sizing: border-box;text-align: center;}#sk-container-id-3 label.sk-toggleable__label-arrow:before {content: \"▸\";float: left;margin-right: 0.25em;color: #696969;}#sk-container-id-3 label.sk-toggleable__label-arrow:hover:before {color: black;}#sk-container-id-3 div.sk-estimator:hover label.sk-toggleable__label-arrow:before {color: black;}#sk-container-id-3 div.sk-toggleable__content {max-height: 0;max-width: 0;overflow: hidden;text-align: left;background-color: #f0f8ff;}#sk-container-id-3 div.sk-toggleable__content pre {margin: 0.2em;color: black;border-radius: 0.25em;background-color: #f0f8ff;}#sk-container-id-3 input.sk-toggleable__control:checked~div.sk-toggleable__content {max-height: 200px;max-width: 100%;overflow: auto;}#sk-container-id-3 input.sk-toggleable__control:checked~label.sk-toggleable__label-arrow:before {content: \"▾\";}#sk-container-id-3 div.sk-estimator input.sk-toggleable__control:checked~label.sk-toggleable__label {background-color: #d4ebff;}#sk-container-id-3 div.sk-label input.sk-toggleable__control:checked~label.sk-toggleable__label {background-color: #d4ebff;}#sk-container-id-3 input.sk-hidden--visually {border: 0;clip: rect(1px 1px 1px 1px);clip: rect(1px, 1px, 1px, 1px);height: 1px;margin: -1px;overflow: hidden;padding: 0;position: absolute;width: 1px;}#sk-container-id-3 div.sk-estimator {font-family: monospace;background-color: #f0f8ff;border: 1px dotted black;border-radius: 0.25em;box-sizing: border-box;margin-bottom: 0.5em;}#sk-container-id-3 div.sk-estimator:hover {background-color: #d4ebff;}#sk-container-id-3 div.sk-parallel-item::after {content: \"\";width: 100%;border-bottom: 1px solid gray;flex-grow: 1;}#sk-container-id-3 div.sk-label:hover label.sk-toggleable__label {background-color: #d4ebff;}#sk-container-id-3 div.sk-serial::before {content: \"\";position: absolute;border-left: 1px solid gray;box-sizing: border-box;top: 0;bottom: 0;left: 50%;z-index: 0;}#sk-container-id-3 div.sk-serial {display: flex;flex-direction: column;align-items: center;background-color: white;padding-right: 0.2em;padding-left: 0.2em;position: relative;}#sk-container-id-3 div.sk-item {position: relative;z-index: 1;}#sk-container-id-3 div.sk-parallel {display: flex;align-items: stretch;justify-content: center;background-color: white;position: relative;}#sk-container-id-3 div.sk-item::before, #sk-container-id-3 div.sk-parallel-item::before {content: \"\";position: absolute;border-left: 1px solid gray;box-sizing: border-box;top: 0;bottom: 0;left: 50%;z-index: -1;}#sk-container-id-3 div.sk-parallel-item {display: flex;flex-direction: column;z-index: 1;position: relative;background-color: white;}#sk-container-id-3 div.sk-parallel-item:first-child::after {align-self: flex-end;width: 50%;}#sk-container-id-3 div.sk-parallel-item:last-child::after {align-self: flex-start;width: 50%;}#sk-container-id-3 div.sk-parallel-item:only-child::after {width: 0;}#sk-container-id-3 div.sk-dashed-wrapped {border: 1px dashed gray;margin: 0 0.4em 0.5em 0.4em;box-sizing: border-box;padding-bottom: 0.4em;background-color: white;}#sk-container-id-3 div.sk-label label {font-family: monospace;font-weight: bold;display: inline-block;line-height: 1.2em;}#sk-container-id-3 div.sk-label-container {text-align: center;}#sk-container-id-3 div.sk-container {/* jupyter's `normalize.less` sets `[hidden] { display: none; }` but bootstrap.min.css set `[hidden] { display: none !important; }` so we also need the `!important` here to be able to override the default hidden behavior on the sphinx rendered scikit-learn.org. See: https://github.com/scikit-learn/scikit-learn/issues/21755 */display: inline-block !important;position: relative;}#sk-container-id-3 div.sk-text-repr-fallback {display: none;}</style><div id=\"sk-container-id-3\" class=\"sk-top-container\"><div class=\"sk-text-repr-fallback\"><pre>GridSearchCV(cv=5, estimator=DecisionTreeClassifier(),\n",
              "             param_grid={&#x27;criterion&#x27;: [&#x27;gini&#x27;, &#x27;entropy&#x27;],\n",
              "                         &#x27;max_depth&#x27;: [None, 1, 2, 3, 4, 5, 10],\n",
              "                         &#x27;min_samples_leaf&#x27;: [1, 2, 4],\n",
              "                         &#x27;min_samples_split&#x27;: [2, 5, 10]})</pre><b>In a Jupyter environment, please rerun this cell to show the HTML representation or trust the notebook. <br />On GitHub, the HTML representation is unable to render, please try loading this page with nbviewer.org.</b></div><div class=\"sk-container\" hidden><div class=\"sk-item sk-dashed-wrapped\"><div class=\"sk-label-container\"><div class=\"sk-label sk-toggleable\"><input class=\"sk-toggleable__control sk-hidden--visually\" id=\"sk-estimator-id-3\" type=\"checkbox\" ><label for=\"sk-estimator-id-3\" class=\"sk-toggleable__label sk-toggleable__label-arrow\">GridSearchCV</label><div class=\"sk-toggleable__content\"><pre>GridSearchCV(cv=5, estimator=DecisionTreeClassifier(),\n",
              "             param_grid={&#x27;criterion&#x27;: [&#x27;gini&#x27;, &#x27;entropy&#x27;],\n",
              "                         &#x27;max_depth&#x27;: [None, 1, 2, 3, 4, 5, 10],\n",
              "                         &#x27;min_samples_leaf&#x27;: [1, 2, 4],\n",
              "                         &#x27;min_samples_split&#x27;: [2, 5, 10]})</pre></div></div></div><div class=\"sk-parallel\"><div class=\"sk-parallel-item\"><div class=\"sk-item\"><div class=\"sk-label-container\"><div class=\"sk-label sk-toggleable\"><input class=\"sk-toggleable__control sk-hidden--visually\" id=\"sk-estimator-id-4\" type=\"checkbox\" ><label for=\"sk-estimator-id-4\" class=\"sk-toggleable__label sk-toggleable__label-arrow\">estimator: DecisionTreeClassifier</label><div class=\"sk-toggleable__content\"><pre>DecisionTreeClassifier()</pre></div></div></div><div class=\"sk-serial\"><div class=\"sk-item\"><div class=\"sk-estimator sk-toggleable\"><input class=\"sk-toggleable__control sk-hidden--visually\" id=\"sk-estimator-id-5\" type=\"checkbox\" ><label for=\"sk-estimator-id-5\" class=\"sk-toggleable__label sk-toggleable__label-arrow\">DecisionTreeClassifier</label><div class=\"sk-toggleable__content\"><pre>DecisionTreeClassifier()</pre></div></div></div></div></div></div></div></div></div></div>"
            ]
          },
          "metadata": {},
          "execution_count": 92
        }
      ]
    },
    {
      "cell_type": "code",
      "source": [
        "# Print the best hyperparameters and corresponding score\n",
        "print(\"Best hyperparameters: \", grid_search.best_params_)\n",
        "print(\"Best score: \", grid_search.best_score_)"
      ],
      "metadata": {
        "colab": {
          "base_uri": "https://localhost:8080/"
        },
        "id": "bzsI4M8fasR-",
        "outputId": "e4a8d90e-3011-424b-db87-8dcc9d1d378a"
      },
      "execution_count": 93,
      "outputs": [
        {
          "output_type": "stream",
          "name": "stdout",
          "text": [
            "Best hyperparameters:  {'criterion': 'gini', 'max_depth': 3, 'min_samples_leaf': 2, 'min_samples_split': 2}\n",
            "Best score:  0.8143169398907103\n"
          ]
        }
      ]
    }
  ]
}